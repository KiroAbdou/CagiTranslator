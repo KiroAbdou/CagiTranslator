{
 "cells": [
  {
   "cell_type": "code",
   "execution_count": 1,
   "id": "3c250b6f-830c-4379-a3ca-01d6e50eedbd",
   "metadata": {},
   "outputs": [
    {
     "name": "stdout",
     "output_type": "stream",
     "text": [
      "Requirement already satisfied: arabic-reshaper in c:\\users\\kirol\\miniconda3\\envs\\cagi_env\\lib\\site-packages (3.0.0)\n",
      "Requirement already satisfied: python-bidi in c:\\users\\kirol\\miniconda3\\envs\\cagi_env\\lib\\site-packages (0.6.6)\n",
      "Requirement already satisfied: rich in c:\\users\\kirol\\miniconda3\\envs\\cagi_env\\lib\\site-packages (14.0.0)\n",
      "Requirement already satisfied: sacrebleu in c:\\users\\kirol\\miniconda3\\envs\\cagi_env\\lib\\site-packages (2.5.1)\n",
      "Requirement already satisfied: markdown-it-py>=2.2.0 in c:\\users\\kirol\\miniconda3\\envs\\cagi_env\\lib\\site-packages (from rich) (3.0.0)\n",
      "Requirement already satisfied: pygments<3.0.0,>=2.13.0 in c:\\users\\kirol\\miniconda3\\envs\\cagi_env\\lib\\site-packages (from rich) (2.19.1)\n",
      "Requirement already satisfied: typing-extensions<5.0,>=4.0.0 in c:\\users\\kirol\\miniconda3\\envs\\cagi_env\\lib\\site-packages (from rich) (4.12.2)\n",
      "Requirement already satisfied: portalocker in c:\\users\\kirol\\miniconda3\\envs\\cagi_env\\lib\\site-packages (from sacrebleu) (3.1.1)\n",
      "Requirement already satisfied: regex in c:\\users\\kirol\\miniconda3\\envs\\cagi_env\\lib\\site-packages (from sacrebleu) (2024.11.6)\n",
      "Requirement already satisfied: tabulate>=0.8.9 in c:\\users\\kirol\\miniconda3\\envs\\cagi_env\\lib\\site-packages (from sacrebleu) (0.9.0)\n",
      "Requirement already satisfied: numpy>=1.17 in c:\\users\\kirol\\miniconda3\\envs\\cagi_env\\lib\\site-packages (from sacrebleu) (1.26.4)\n",
      "Requirement already satisfied: colorama in c:\\users\\kirol\\miniconda3\\envs\\cagi_env\\lib\\site-packages (from sacrebleu) (0.4.6)\n",
      "Requirement already satisfied: lxml in c:\\users\\kirol\\miniconda3\\envs\\cagi_env\\lib\\site-packages (from sacrebleu) (5.3.0)\n",
      "Requirement already satisfied: mdurl~=0.1 in c:\\users\\kirol\\miniconda3\\envs\\cagi_env\\lib\\site-packages (from markdown-it-py>=2.2.0->rich) (0.1.2)\n",
      "Requirement already satisfied: pywin32>=226 in c:\\users\\kirol\\miniconda3\\envs\\cagi_env\\lib\\site-packages (from portalocker->sacrebleu) (308)\n"
     ]
    }
   ],
   "source": [
    "# Install necessary packages if missing \n",
    "!pip install arabic-reshaper python-bidi rich sacrebleu"
   ]
  },
  {
   "cell_type": "code",
   "execution_count": 2,
   "id": "cc797558-cf45-4494-98ad-c7261d195d31",
   "metadata": {},
   "outputs": [],
   "source": [
    "import sys\n",
    "sys.path.append(\"../src\")"
   ]
  },
  {
   "cell_type": "code",
   "execution_count": 3,
   "id": "b685ac25-156b-43fb-acfc-b3fc0c6a6b84",
   "metadata": {},
   "outputs": [],
   "source": [
    "from llm.translation_pipeline import ArabicToGermanTranslator\n",
    "from document_processing.processor import DocumentProcessor\n",
    "import arabic_reshaper\n",
    "from bidi.algorithm import get_display\n",
    "from rich.console import Console\n",
    "from sacrebleu import corpus_bleu\n",
    "from bert_score import score as bert_score\n",
    "import pandas as pd"
   ]
  },
  {
   "cell_type": "code",
   "execution_count": 4,
   "id": "5401b0b5-62b1-4336-b19c-3218199dbbb3",
   "metadata": {},
   "outputs": [],
   "source": [
    "# # Utility Functions\n",
    "# def reshape_arabic(text: str) -> str:\n",
    "#     reshaped_text = arabic_reshaper.reshape(text)\n",
    "#     bidi_text = get_display(reshaped_text)\n",
    "#     return bidi_text"
   ]
  },
  {
   "cell_type": "markdown",
   "id": "c2cfa9af-0030-4bc5-bc84-047954c3d869",
   "metadata": {},
   "source": [
    "### Test _Dummy_ Translation using BLEU and BERT Score"
   ]
  },
  {
   "cell_type": "code",
   "execution_count": 19,
   "id": "e62481d7-ff56-439b-8e11-e83cdb354243",
   "metadata": {},
   "outputs": [
    {
     "data": {
      "text/html": [
       "<pre style=\"white-space:pre;overflow-x:auto;line-height:normal;font-family:Menlo,'DejaVu Sans Mono',consolas,'Courier New',monospace\"><span style=\"color: #00ff00; text-decoration-color: #00ff00\">───────────────────────────────────────────────── </span>Original Arabic<span style=\"color: #00ff00; text-decoration-color: #00ff00\"> ─────────────────────────────────────────────────</span>\n",
       "</pre>\n"
      ],
      "text/plain": [
       "\u001b[92m───────────────────────────────────────────────── \u001b[0mOriginal Arabic\u001b[92m ─────────────────────────────────────────────────\u001b[0m\n"
      ]
     },
     "metadata": {},
     "output_type": "display_data"
    },
    {
     "data": {
      "text/html": [
       "<pre style=\"white-space:pre;overflow-x:auto;line-height:normal;font-family:Menlo,'DejaVu Sans Mono',consolas,'Courier New',monospace\"><span style=\"color: #008000; text-decoration-color: #008000; font-weight: bold\">آية الدرس: </span><span style=\"color: #008000; text-decoration-color: #008000\">\"تنضح علىَّ بزوفاك فأطهر. تغسلني فأَبيضَ أكثرَ من الثلج\"</span><span style=\"color: #008000; text-decoration-color: #008000; font-weight: bold\"> (مزمور </span><span style=\"color: #008080; text-decoration-color: #008080; font-weight: bold\">50</span><span style=\"color: #008000; text-decoration-color: #008000; font-weight: bold\">: </span><span style=\"color: #008080; text-decoration-color: #008080; font-weight: bold\">7</span><span style=\"color: #008000; text-decoration-color: #008000; font-weight: bold\"> قبطي)</span>\n",
       "</pre>\n"
      ],
      "text/plain": [
       "\u001b[1;32mآية الدرس: \u001b[0m\u001b[32m\"تنضح علىَّ بزوفاك فأطهر. تغسلني فأَبيضَ أكثرَ من الثلج\"\u001b[0m\u001b[1;32m \u001b[0m\u001b[1;32m(\u001b[0m\u001b[1;32mمزمور \u001b[0m\u001b[1;36m50\u001b[0m\u001b[1;32m: \u001b[0m\u001b[1;36m7\u001b[0m\u001b[1;32m قبطي\u001b[0m\u001b[1;32m)\u001b[0m\n"
      ]
     },
     "metadata": {},
     "output_type": "display_data"
    },
    {
     "data": {
      "text/html": [
       "<pre style=\"white-space:pre;overflow-x:auto;line-height:normal;font-family:Menlo,'DejaVu Sans Mono',consolas,'Courier New',monospace\"><span style=\"color: #00ff00; text-decoration-color: #00ff00\">───────────────────────────────────────────── </span>LLM German Translation<span style=\"color: #00ff00; text-decoration-color: #00ff00\"> ──────────────────────────────────────────────</span>\n",
       "</pre>\n"
      ],
      "text/plain": [
       "\u001b[92m───────────────────────────────────────────── \u001b[0mLLM German Translation\u001b[92m ──────────────────────────────────────────────\u001b[0m\n"
      ]
     },
     "metadata": {},
     "output_type": "display_data"
    },
    {
     "data": {
      "text/html": [
       "<pre style=\"white-space:pre;overflow-x:auto;line-height:normal;font-family:Menlo,'DejaVu Sans Mono',consolas,'Courier New',monospace\"><span style=\"color: #000080; text-decoration-color: #000080; font-weight: bold\">Die Lektion lautet: </span><span style=\"color: #008000; text-decoration-color: #008000\">\"Du wirst mir dein Schwert geben, ich werde gereinigt, du wirst mich waschen, und ich werde </span>\n",
       "<span style=\"color: #008000; text-decoration-color: #008000\">weißer als Eis.\"</span>\n",
       "</pre>\n"
      ],
      "text/plain": [
       "\u001b[1;34mDie Lektion lautet: \u001b[0m\u001b[32m\"Du wirst mir dein Schwert geben, ich werde gereinigt, du wirst mich waschen, und ich werde \u001b[0m\n",
       "\u001b[32mweißer als Eis.\"\u001b[0m\n"
      ]
     },
     "metadata": {},
     "output_type": "display_data"
    },
    {
     "data": {
      "text/html": [
       "<pre style=\"white-space:pre;overflow-x:auto;line-height:normal;font-family:Menlo,'DejaVu Sans Mono',consolas,'Courier New',monospace\"><span style=\"color: #00ff00; text-decoration-color: #00ff00\">───────────────────────────────────────────────── </span>Original Arabic<span style=\"color: #00ff00; text-decoration-color: #00ff00\"> ─────────────────────────────────────────────────</span>\n",
       "</pre>\n"
      ],
      "text/plain": [
       "\u001b[92m───────────────────────────────────────────────── \u001b[0mOriginal Arabic\u001b[92m ─────────────────────────────────────────────────\u001b[0m\n"
      ]
     },
     "metadata": {},
     "output_type": "display_data"
    },
    {
     "data": {
      "text/html": [
       "<pre style=\"white-space:pre;overflow-x:auto;line-height:normal;font-family:Menlo,'DejaVu Sans Mono',consolas,'Courier New',monospace\"><span style=\"color: #008000; text-decoration-color: #008000; font-weight: bold\">الأسبوع الثاني من شهر برمهات (مارس)</span>\n",
       "</pre>\n"
      ],
      "text/plain": [
       "\u001b[1;32mالأسبوع الثاني من شهر برمهات \u001b[0m\u001b[1;32m(\u001b[0m\u001b[1;32mمارس\u001b[0m\u001b[1;32m)\u001b[0m\n"
      ]
     },
     "metadata": {},
     "output_type": "display_data"
    },
    {
     "data": {
      "text/html": [
       "<pre style=\"white-space:pre;overflow-x:auto;line-height:normal;font-family:Menlo,'DejaVu Sans Mono',consolas,'Courier New',monospace\"><span style=\"color: #00ff00; text-decoration-color: #00ff00\">───────────────────────────────────────────── </span>LLM German Translation<span style=\"color: #00ff00; text-decoration-color: #00ff00\"> ──────────────────────────────────────────────</span>\n",
       "</pre>\n"
      ],
      "text/plain": [
       "\u001b[92m───────────────────────────────────────────── \u001b[0mLLM German Translation\u001b[92m ──────────────────────────────────────────────\u001b[0m\n"
      ]
     },
     "metadata": {},
     "output_type": "display_data"
    },
    {
     "data": {
      "text/html": [
       "<pre style=\"white-space:pre;overflow-x:auto;line-height:normal;font-family:Menlo,'DejaVu Sans Mono',consolas,'Courier New',monospace\"><span style=\"color: #000080; text-decoration-color: #000080; font-weight: bold\">Die zweite Woche des Monats, März.</span>\n",
       "</pre>\n"
      ],
      "text/plain": [
       "\u001b[1;34mDie zweite Woche des Monats, März.\u001b[0m\n"
      ]
     },
     "metadata": {},
     "output_type": "display_data"
    },
    {
     "data": {
      "text/html": [
       "<pre style=\"white-space:pre;overflow-x:auto;line-height:normal;font-family:Menlo,'DejaVu Sans Mono',consolas,'Courier New',monospace\"><span style=\"color: #00ff00; text-decoration-color: #00ff00\">───────────────────────────────────────────────── </span>Original Arabic<span style=\"color: #00ff00; text-decoration-color: #00ff00\"> ─────────────────────────────────────────────────</span>\n",
       "</pre>\n"
      ],
      "text/plain": [
       "\u001b[92m───────────────────────────────────────────────── \u001b[0mOriginal Arabic\u001b[92m ─────────────────────────────────────────────────\u001b[0m\n"
      ]
     },
     "metadata": {},
     "output_type": "display_data"
    },
    {
     "data": {
      "text/html": [
       "<pre style=\"white-space:pre;overflow-x:auto;line-height:normal;font-family:Menlo,'DejaVu Sans Mono',consolas,'Courier New',monospace\"><span style=\"color: #008000; text-decoration-color: #008000; font-weight: bold\">الدرس السابع: القديسة دميانة</span>\n",
       "</pre>\n"
      ],
      "text/plain": [
       "\u001b[1;32mالدرس السابع: القديسة دميانة\u001b[0m\n"
      ]
     },
     "metadata": {},
     "output_type": "display_data"
    },
    {
     "data": {
      "text/html": [
       "<pre style=\"white-space:pre;overflow-x:auto;line-height:normal;font-family:Menlo,'DejaVu Sans Mono',consolas,'Courier New',monospace\"><span style=\"color: #00ff00; text-decoration-color: #00ff00\">───────────────────────────────────────────── </span>LLM German Translation<span style=\"color: #00ff00; text-decoration-color: #00ff00\"> ──────────────────────────────────────────────</span>\n",
       "</pre>\n"
      ],
      "text/plain": [
       "\u001b[92m───────────────────────────────────────────── \u001b[0mLLM German Translation\u001b[92m ──────────────────────────────────────────────\u001b[0m\n"
      ]
     },
     "metadata": {},
     "output_type": "display_data"
    },
    {
     "data": {
      "text/html": [
       "<pre style=\"white-space:pre;overflow-x:auto;line-height:normal;font-family:Menlo,'DejaVu Sans Mono',consolas,'Courier New',monospace\"><span style=\"color: #000080; text-decoration-color: #000080; font-weight: bold\">Lektion </span><span style=\"color: #008080; text-decoration-color: #008080; font-weight: bold\">7</span><span style=\"color: #000080; text-decoration-color: #000080; font-weight: bold\">: Die Heilige Dame.</span>\n",
       "</pre>\n"
      ],
      "text/plain": [
       "\u001b[1;34mLektion \u001b[0m\u001b[1;36m7\u001b[0m\u001b[1;34m: Die Heilige Dame.\u001b[0m\n"
      ]
     },
     "metadata": {},
     "output_type": "display_data"
    },
    {
     "data": {
      "text/html": [
       "<pre style=\"white-space:pre;overflow-x:auto;line-height:normal;font-family:Menlo,'DejaVu Sans Mono',consolas,'Courier New',monospace\"><span style=\"color: #00ff00; text-decoration-color: #00ff00\">───────────────────────────────────────────────── </span>Original Arabic<span style=\"color: #00ff00; text-decoration-color: #00ff00\"> ─────────────────────────────────────────────────</span>\n",
       "</pre>\n"
      ],
      "text/plain": [
       "\u001b[92m───────────────────────────────────────────────── \u001b[0mOriginal Arabic\u001b[92m ─────────────────────────────────────────────────\u001b[0m\n"
      ]
     },
     "metadata": {},
     "output_type": "display_data"
    },
    {
     "data": {
      "text/html": [
       "<pre style=\"white-space:pre;overflow-x:auto;line-height:normal;font-family:Menlo,'DejaVu Sans Mono',consolas,'Courier New',monospace\"><span style=\"color: #008000; text-decoration-color: #008000; font-weight: bold\">قصة توبة</span>\n",
       "</pre>\n"
      ],
      "text/plain": [
       "\u001b[1;32mقصة توبة\u001b[0m\n"
      ]
     },
     "metadata": {},
     "output_type": "display_data"
    },
    {
     "data": {
      "text/html": [
       "<pre style=\"white-space:pre;overflow-x:auto;line-height:normal;font-family:Menlo,'DejaVu Sans Mono',consolas,'Courier New',monospace\"><span style=\"color: #00ff00; text-decoration-color: #00ff00\">───────────────────────────────────────────── </span>LLM German Translation<span style=\"color: #00ff00; text-decoration-color: #00ff00\"> ──────────────────────────────────────────────</span>\n",
       "</pre>\n"
      ],
      "text/plain": [
       "\u001b[92m───────────────────────────────────────────── \u001b[0mLLM German Translation\u001b[92m ──────────────────────────────────────────────\u001b[0m\n"
      ]
     },
     "metadata": {},
     "output_type": "display_data"
    },
    {
     "data": {
      "text/html": [
       "<pre style=\"white-space:pre;overflow-x:auto;line-height:normal;font-family:Menlo,'DejaVu Sans Mono',consolas,'Courier New',monospace\"><span style=\"color: #000080; text-decoration-color: #000080; font-weight: bold\">Eine Geschichte der Reue.</span>\n",
       "</pre>\n"
      ],
      "text/plain": [
       "\u001b[1;34mEine Geschichte der Reue.\u001b[0m\n"
      ]
     },
     "metadata": {},
     "output_type": "display_data"
    },
    {
     "data": {
      "text/html": [
       "<pre style=\"white-space:pre;overflow-x:auto;line-height:normal;font-family:Menlo,'DejaVu Sans Mono',consolas,'Courier New',monospace\"><span style=\"color: #00ff00; text-decoration-color: #00ff00\">───────────────────────────────────────────────── </span>Original Arabic<span style=\"color: #00ff00; text-decoration-color: #00ff00\"> ─────────────────────────────────────────────────</span>\n",
       "</pre>\n"
      ],
      "text/plain": [
       "\u001b[92m───────────────────────────────────────────────── \u001b[0mOriginal Arabic\u001b[92m ─────────────────────────────────────────────────\u001b[0m\n"
      ]
     },
     "metadata": {},
     "output_type": "display_data"
    },
    {
     "data": {
      "text/html": [
       "<pre style=\"white-space:pre;overflow-x:auto;line-height:normal;font-family:Menlo,'DejaVu Sans Mono',consolas,'Courier New',monospace\"><span style=\"color: #008000; text-decoration-color: #008000; font-weight: bold\">الدرس القادم: ليلة أبوغلمسيس</span>\n",
       "</pre>\n"
      ],
      "text/plain": [
       "\u001b[1;32mالدرس القادم: ليلة أبوغلمسيس\u001b[0m\n"
      ]
     },
     "metadata": {},
     "output_type": "display_data"
    },
    {
     "data": {
      "text/html": [
       "<pre style=\"white-space:pre;overflow-x:auto;line-height:normal;font-family:Menlo,'DejaVu Sans Mono',consolas,'Courier New',monospace\"><span style=\"color: #00ff00; text-decoration-color: #00ff00\">───────────────────────────────────────────── </span>LLM German Translation<span style=\"color: #00ff00; text-decoration-color: #00ff00\"> ──────────────────────────────────────────────</span>\n",
       "</pre>\n"
      ],
      "text/plain": [
       "\u001b[92m───────────────────────────────────────────── \u001b[0mLLM German Translation\u001b[92m ──────────────────────────────────────────────\u001b[0m\n"
      ]
     },
     "metadata": {},
     "output_type": "display_data"
    },
    {
     "data": {
      "text/html": [
       "<pre style=\"white-space:pre;overflow-x:auto;line-height:normal;font-family:Menlo,'DejaVu Sans Mono',consolas,'Courier New',monospace\"><span style=\"color: #000080; text-decoration-color: #000080; font-weight: bold\">Nächste Lektion:</span>\n",
       "</pre>\n"
      ],
      "text/plain": [
       "\u001b[1;34mNächste Lektion:\u001b[0m\n"
      ]
     },
     "metadata": {},
     "output_type": "display_data"
    },
    {
     "name": "stdout",
     "output_type": "stream",
     "text": [
      "\n",
      "--- BLEU Evaluation Results ---\n",
      "BLEU Score: 14.60\n",
      "calculating scores...\n",
      "computing bert embedding.\n"
     ]
    },
    {
     "data": {
      "application/vnd.jupyter.widget-view+json": {
       "model_id": "799ce972108e47d1bc647d2bfa7666a7",
       "version_major": 2,
       "version_minor": 0
      },
      "text/plain": [
       "  0%|          | 0/1 [00:00<?, ?it/s]"
      ]
     },
     "metadata": {},
     "output_type": "display_data"
    },
    {
     "name": "stdout",
     "output_type": "stream",
     "text": [
      "computing greedy matching.\n"
     ]
    },
    {
     "name": "stderr",
     "output_type": "stream",
     "text": [
      "C:\\Users\\kirol\\miniconda3\\envs\\cagi_env\\lib\\site-packages\\transformers\\models\\bert\\modeling_bert.py:440: UserWarning: 1Torch was not compiled with flash attention. (Triggered internally at ..\\aten\\src\\ATen\\native\\transformers\\cuda\\sdp_utils.cpp:263.)\n",
      "  attn_output = torch.nn.functional.scaled_dot_product_attention(\n"
     ]
    },
    {
     "data": {
      "application/vnd.jupyter.widget-view+json": {
       "model_id": "443054b6da1d4b06a2d7847667f9a457",
       "version_major": 2,
       "version_minor": 0
      },
      "text/plain": [
       "  0%|          | 0/1 [00:00<?, ?it/s]"
      ]
     },
     "metadata": {},
     "output_type": "display_data"
    },
    {
     "name": "stdout",
     "output_type": "stream",
     "text": [
      "done in 0.39 seconds, 12.69 sentences/sec\n",
      "\n",
      "--- BERTScore Evaluation Results ---\n",
      "Average Precision: 0.8323\n",
      "Average Recall:    0.7751\n",
      "Average F1:        0.8004\n"
     ]
    },
    {
     "data": {
      "text/html": [
       "<div>\n",
       "<style scoped>\n",
       "    .dataframe tbody tr th:only-of-type {\n",
       "        vertical-align: middle;\n",
       "    }\n",
       "\n",
       "    .dataframe tbody tr th {\n",
       "        vertical-align: top;\n",
       "    }\n",
       "\n",
       "    .dataframe thead th {\n",
       "        text-align: right;\n",
       "    }\n",
       "</style>\n",
       "<table border=\"1\" class=\"dataframe\">\n",
       "  <thead>\n",
       "    <tr style=\"text-align: right;\">\n",
       "      <th></th>\n",
       "      <th>Arabic</th>\n",
       "      <th>Human German</th>\n",
       "      <th>LLM German</th>\n",
       "      <th>BERTScore F1</th>\n",
       "    </tr>\n",
       "  </thead>\n",
       "  <tbody>\n",
       "    <tr>\n",
       "      <th>0</th>\n",
       "      <td>آية الدرس: \"تنضح علىَّ بزوفاك فأطهر. تغسلني فأ...</td>\n",
       "      <td>Lehrvers: \"Entsündige mich mit Ysop, dann werd...</td>\n",
       "      <td>Die Lektion lautet: \"Du wirst mir dein Schwert...</td>\n",
       "      <td>0.745416</td>\n",
       "    </tr>\n",
       "    <tr>\n",
       "      <th>1</th>\n",
       "      <td>الأسبوع الثاني من شهر برمهات (مارس)</td>\n",
       "      <td>Die zweite Woche des Monats Baramhat (März)</td>\n",
       "      <td>Die zweite Woche des Monats, März.</td>\n",
       "      <td>0.851452</td>\n",
       "    </tr>\n",
       "    <tr>\n",
       "      <th>2</th>\n",
       "      <td>الدرس السابع: القديسة دميانة</td>\n",
       "      <td>Siebte Lektion: Die heilige Damiana</td>\n",
       "      <td>Lektion 7: Die Heilige Dame.</td>\n",
       "      <td>0.796391</td>\n",
       "    </tr>\n",
       "    <tr>\n",
       "      <th>3</th>\n",
       "      <td>قصة توبة</td>\n",
       "      <td>Geschichte der Reue</td>\n",
       "      <td>Eine Geschichte der Reue.</td>\n",
       "      <td>0.856793</td>\n",
       "    </tr>\n",
       "    <tr>\n",
       "      <th>4</th>\n",
       "      <td>الدرس القادم: ليلة أبوغلمسيس</td>\n",
       "      <td>Nächste Lektion: Die Nacht von Apocalypse (Abu...</td>\n",
       "      <td>Nächste Lektion:</td>\n",
       "      <td>0.751939</td>\n",
       "    </tr>\n",
       "  </tbody>\n",
       "</table>\n",
       "</div>"
      ],
      "text/plain": [
       "                                              Arabic  \\\n",
       "0  آية الدرس: \"تنضح علىَّ بزوفاك فأطهر. تغسلني فأ...   \n",
       "1                الأسبوع الثاني من شهر برمهات (مارس)   \n",
       "2                       الدرس السابع: القديسة دميانة   \n",
       "3                                           قصة توبة   \n",
       "4                       الدرس القادم: ليلة أبوغلمسيس   \n",
       "\n",
       "                                        Human German  \\\n",
       "0  Lehrvers: \"Entsündige mich mit Ysop, dann werd...   \n",
       "1        Die zweite Woche des Monats Baramhat (März)   \n",
       "2                Siebte Lektion: Die heilige Damiana   \n",
       "3                                Geschichte der Reue   \n",
       "4  Nächste Lektion: Die Nacht von Apocalypse (Abu...   \n",
       "\n",
       "                                          LLM German  BERTScore F1  \n",
       "0  Die Lektion lautet: \"Du wirst mir dein Schwert...      0.745416  \n",
       "1                 Die zweite Woche des Monats, März.      0.851452  \n",
       "2                       Lektion 7: Die Heilige Dame.      0.796391  \n",
       "3                          Eine Geschichte der Reue.      0.856793  \n",
       "4                                   Nächste Lektion:      0.751939  "
      ]
     },
     "execution_count": 19,
     "metadata": {},
     "output_type": "execute_result"
    }
   ],
   "source": [
    "# Example Arabic Texts (could be extracted dynamically later)\n",
    "arabic_texts = [\n",
    "    \"آية الدرس: \\\"تنضح علىَّ بزوفاك فأطهر. تغسلني فأَبيضَ أكثرَ من الثلج\\\" (مزمور 50: 7 قبطي)\",\n",
    "    \"الأسبوع الثاني من شهر برمهات (مارس)\",\n",
    "    \"الدرس السابع: القديسة دميانة\",\n",
    "    \"قصة توبة\",\n",
    "    \"الدرس القادم: ليلة أبوغلمسيس\"\n",
    "]\n",
    "\n",
    "# Placeholder Human Translations (Later extracted from Word docs)\n",
    "human_translations = [\n",
    "    \"Lehrvers: \\\"Entsündige mich mit Ysop, dann werde ich rein, wasche mich, dann werde ich weißer sein als Schnee.\\\" (Psalm 50:7 Koptisch)\",\n",
    "    \"Die zweite Woche des Monats Baramhat (März)\",\n",
    "    \"Siebte Lektion: Die heilige Damiana\",\n",
    "    \"Geschichte der Reue\",\n",
    "    \"Nächste Lektion: Die Nacht von Apocalypse (Abughalamsis-Nacht)\"\n",
    "]\n",
    "\n",
    "# Translate and Compare\n",
    "llm_translations = []\n",
    "\n",
    "for arabic in arabic_texts:\n",
    "    console.rule(\"Original Arabic\")\n",
    "    console.print(arabic, style=\"bold green\")\n",
    "\n",
    "    llm_output = translator.translate(arabic)\n",
    "    llm_translations.append(llm_output)\n",
    "\n",
    "    console.rule(\"LLM German Translation\")\n",
    "    console.print(llm_output, style=\"bold blue\")\n",
    "\n",
    "# --- Automated BLEU Evaluation ---\n",
    "bleu = corpus_bleu(llm_translations, [human_translations])\n",
    "print(\"\\n--- BLEU Evaluation Results ---\")\n",
    "print(f\"BLEU Score: {bleu.score:.2f}\")\n",
    "\n",
    "# --- BERTScore Evaluation ---\n",
    "P, R, F1 = bert_score(llm_translations, human_translations, lang=\"de\", verbose=True)\n",
    "\n",
    "print(\"\\n--- BERTScore Evaluation Results ---\")\n",
    "print(f\"Average Precision: {P.mean():.4f}\")\n",
    "print(f\"Average Recall:    {R.mean():.4f}\")\n",
    "print(f\"Average F1:        {F1.mean():.4f}\")\n",
    "\n",
    "# Comparison Table\n",
    "comparison_df = pd.DataFrame({\n",
    "    \"Arabic\": arabic_texts,\n",
    "    \"Human German\": human_translations,\n",
    "    \"LLM German\": llm_translations,\n",
    "    \"BERTScore F1\": F1.tolist()\n",
    "})\n",
    "\n",
    "comparison_df\n"
   ]
  },
  {
   "cell_type": "markdown",
   "id": "8291a89f-e63e-419b-a200-b445d80ed89e",
   "metadata": {},
   "source": [
    "### Upload Sundyschool Lesson Translation"
   ]
  },
  {
   "cell_type": "code",
   "execution_count": 25,
   "id": "17ed351b",
   "metadata": {
    "vscode": {
     "languageId": "plaintext"
    }
   },
   "outputs": [
    {
     "name": "stderr",
     "output_type": "stream",
     "text": [
      "Device set to use cuda:0\n"
     ]
    },
    {
     "data": {
      "text/html": [
       "<pre style=\"white-space:pre;overflow-x:auto;line-height:normal;font-family:Menlo,'DejaVu Sans Mono',consolas,'Courier New',monospace\"><span style=\"color: #00ff00; text-decoration-color: #00ff00\">───────────────────────────────────────────────── </span>Original Arabic<span style=\"color: #00ff00; text-decoration-color: #00ff00\"> ─────────────────────────────────────────────────</span>\n",
       "</pre>\n"
      ],
      "text/plain": [
       "\u001b[92m───────────────────────────────────────────────── \u001b[0mOriginal Arabic\u001b[92m ─────────────────────────────────────────────────\u001b[0m\n"
      ]
     },
     "metadata": {},
     "output_type": "display_data"
    },
    {
     "data": {
      "text/html": [
       "<pre style=\"white-space:pre;overflow-x:auto;line-height:normal;font-family:Menlo,'DejaVu Sans Mono',consolas,'Courier New',monospace\"><span style=\"color: #008000; text-decoration-color: #008000; font-weight: bold\">الأسبوع الثاني من شهر برمهات (مارس)</span>\n",
       "<span style=\"color: #008000; text-decoration-color: #008000; font-weight: bold\"> الدرس السابع: القديسة دميانة</span>\n",
       "<span style=\"color: #008000; text-decoration-color: #008000; font-weight: bold\"> قصة توبة</span>\n",
       "<span style=\"color: #008000; text-decoration-color: #008000; font-weight: bold\"> الدرس القادم: ليلة أبوغلمسيس</span>\n",
       "</pre>\n"
      ],
      "text/plain": [
       "\u001b[1;32mالأسبوع الثاني من شهر برمهات \u001b[0m\u001b[1;32m(\u001b[0m\u001b[1;32mمارس\u001b[0m\u001b[1;32m)\u001b[0m\n",
       "\u001b[1;32m الدرس السابع: القديسة دميانة\u001b[0m\n",
       "\u001b[1;32m قصة توبة\u001b[0m\n",
       "\u001b[1;32m الدرس القادم: ليلة أبوغلمسيس\u001b[0m\n"
      ]
     },
     "metadata": {},
     "output_type": "display_data"
    },
    {
     "data": {
      "text/html": [
       "<pre style=\"white-space:pre;overflow-x:auto;line-height:normal;font-family:Menlo,'DejaVu Sans Mono',consolas,'Courier New',monospace\"><span style=\"color: #008000; text-decoration-color: #008000; font-weight: bold\">مريم المصرية</span>\n",
       "</pre>\n"
      ],
      "text/plain": [
       "\u001b[1;32mمريم المصرية\u001b[0m\n"
      ]
     },
     "metadata": {},
     "output_type": "display_data"
    },
    {
     "data": {
      "text/html": [
       "<pre style=\"white-space:pre;overflow-x:auto;line-height:normal;font-family:Menlo,'DejaVu Sans Mono',consolas,'Courier New',monospace\"><span style=\"color: #008000; text-decoration-color: #008000; font-weight: bold\">المحور التعليمي: رحلة يوم (آبائي)</span>\n",
       "</pre>\n"
      ],
      "text/plain": [
       "\u001b[1;32mالمحور التعليمي: رحلة يوم \u001b[0m\u001b[1;32m(\u001b[0m\u001b[1;32mآبائي\u001b[0m\u001b[1;32m)\u001b[0m\n"
      ]
     },
     "metadata": {},
     "output_type": "display_data"
    },
    {
     "data": {
      "text/html": [
       "<pre style=\"white-space:pre;overflow-x:auto;line-height:normal;font-family:Menlo,'DejaVu Sans Mono',consolas,'Courier New',monospace\"><span style=\"color: #008000; text-decoration-color: #008000; font-weight: bold\">محور الدرس:</span>\n",
       "<span style=\"color: #008000; text-decoration-color: #008000; font-weight: bold\"> </span><span style=\"color: #008000; text-decoration-color: #008000\">\"الله أحبني، فتح لي باب التوبة، لا يستطيع أحد أن يُغلقه أمامي، فاتحاً ذاعيه على الصليب فرحاً برجوعي.\"</span>\n",
       "</pre>\n"
      ],
      "text/plain": [
       "\u001b[1;32mمحور الدرس:\u001b[0m\n",
       "\u001b[1;32m \u001b[0m\u001b[32m\"الله أحبني، فتح لي باب التوبة، لا يستطيع أحد أن يُغلقه أمامي، فاتحاً ذاعيه على الصليب فرحاً برجوعي.\"\u001b[0m\n"
      ]
     },
     "metadata": {},
     "output_type": "display_data"
    },
    {
     "data": {
      "text/html": [
       "<pre style=\"white-space:pre;overflow-x:auto;line-height:normal;font-family:Menlo,'DejaVu Sans Mono',consolas,'Courier New',monospace\"><span style=\"color: #008000; text-decoration-color: #008000; font-weight: bold\">آية الدرس:</span>\n",
       "<span style=\"color: #008000; text-decoration-color: #008000; font-weight: bold\"> </span><span style=\"color: #008000; text-decoration-color: #008000\">\"تنضح علىَّ بزوفاك فأطهر. تغسلني فأَبيضَ أكثرَ من الثلج\"</span><span style=\"color: #008000; text-decoration-color: #008000; font-weight: bold\"> (مزمور </span><span style=\"color: #008080; text-decoration-color: #008080; font-weight: bold\">50</span><span style=\"color: #008000; text-decoration-color: #008000; font-weight: bold\">: </span><span style=\"color: #008080; text-decoration-color: #008080; font-weight: bold\">7</span><span style=\"color: #008000; text-decoration-color: #008000; font-weight: bold\"> قبطي)</span>\n",
       "</pre>\n"
      ],
      "text/plain": [
       "\u001b[1;32mآية الدرس:\u001b[0m\n",
       "\u001b[1;32m \u001b[0m\u001b[32m\"تنضح علىَّ بزوفاك فأطهر. تغسلني فأَبيضَ أكثرَ من الثلج\"\u001b[0m\u001b[1;32m \u001b[0m\u001b[1;32m(\u001b[0m\u001b[1;32mمزمور \u001b[0m\u001b[1;36m50\u001b[0m\u001b[1;32m: \u001b[0m\u001b[1;36m7\u001b[0m\u001b[1;32m قبطي\u001b[0m\u001b[1;32m)\u001b[0m\n"
      ]
     },
     "metadata": {},
     "output_type": "display_data"
    },
    {
     "data": {
      "text/html": [
       "<pre style=\"white-space:pre;overflow-x:auto;line-height:normal;font-family:Menlo,'DejaVu Sans Mono',consolas,'Courier New',monospace\"><span style=\"color: #008000; text-decoration-color: #008000; font-weight: bold\">هدف الدرس:</span>\n",
       "</pre>\n"
      ],
      "text/plain": [
       "\u001b[1;32mهدف الدرس:\u001b[0m\n"
      ]
     },
     "metadata": {},
     "output_type": "display_data"
    },
    {
     "data": {
      "text/html": [
       "<pre style=\"white-space:pre;overflow-x:auto;line-height:normal;font-family:Menlo,'DejaVu Sans Mono',consolas,'Courier New',monospace\"><span style=\"color: #008000; text-decoration-color: #008000; font-weight: bold\">مساعدة الطفل أن:</span>\n",
       "</pre>\n"
      ],
      "text/plain": [
       "\u001b[1;32mمساعدة الطفل أن:\u001b[0m\n"
      ]
     },
     "metadata": {},
     "output_type": "display_data"
    },
    {
     "data": {
      "text/html": [
       "<pre style=\"white-space:pre;overflow-x:auto;line-height:normal;font-family:Menlo,'DejaVu Sans Mono',consolas,'Courier New',monospace\"><span style=\"color: #008000; text-decoration-color: #008000; font-weight: bold\">يعرف: قوة توبة القديسة مريم المصرية.</span>\n",
       "</pre>\n"
      ],
      "text/plain": [
       "\u001b[1;32mيعرف: قوة توبة القديسة مريم المصرية.\u001b[0m\n"
      ]
     },
     "metadata": {},
     "output_type": "display_data"
    },
    {
     "data": {
      "text/html": [
       "<pre style=\"white-space:pre;overflow-x:auto;line-height:normal;font-family:Menlo,'DejaVu Sans Mono',consolas,'Courier New',monospace\"><span style=\"color: #008000; text-decoration-color: #008000; font-weight: bold\">يشعر: بحنان وغفران الله لخطايانا مهما كانت.</span>\n",
       "</pre>\n"
      ],
      "text/plain": [
       "\u001b[1;32mيشعر: بحنان وغفران الله لخطايانا مهما كانت.\u001b[0m\n"
      ]
     },
     "metadata": {},
     "output_type": "display_data"
    },
    {
     "data": {
      "text/html": [
       "<pre style=\"white-space:pre;overflow-x:auto;line-height:normal;font-family:Menlo,'DejaVu Sans Mono',consolas,'Courier New',monospace\"><span style=\"color: #008000; text-decoration-color: #008000; font-weight: bold\">يقتدي: على التوبة الحقيقية المستمرة.</span>\n",
       "</pre>\n"
      ],
      "text/plain": [
       "\u001b[1;32mيقتدي: على التوبة الحقيقية المستمرة.\u001b[0m\n"
      ]
     },
     "metadata": {},
     "output_type": "display_data"
    },
    {
     "data": {
      "text/html": [
       "<pre style=\"white-space:pre;overflow-x:auto;line-height:normal;font-family:Menlo,'DejaVu Sans Mono',consolas,'Courier New',monospace\"><span style=\"color: #008000; text-decoration-color: #008000; font-weight: bold\">الشاهد الكتابي:</span>\n",
       "</pre>\n"
      ],
      "text/plain": [
       "\u001b[1;32mالشاهد الكتابي:\u001b[0m\n"
      ]
     },
     "metadata": {},
     "output_type": "display_data"
    },
    {
     "data": {
      "text/html": [
       "<pre style=\"white-space:pre;overflow-x:auto;line-height:normal;font-family:Menlo,'DejaVu Sans Mono',consolas,'Courier New',monospace\"><span style=\"color: #008000; text-decoration-color: #008000; font-weight: bold\">(حر ١٦: ٨ - ٤، حر ٢٣: ١١، طو ١٣: ٨)</span>\n",
       "<span style=\"color: #008000; text-decoration-color: #008000; font-weight: bold\"> (إش ٥٩: ٢٠، ٢ كو ٧: ١٠، لو ١٥، لو ١٥: ٢٠، لو ١٥: ٧)</span>\n",
       "</pre>\n"
      ],
      "text/plain": [
       "\u001b[1;32m(\u001b[0m\u001b[1;32mحر ١٦: ٨ - ٤، حر ٢٣: ١١، طو ١٣: ٨\u001b[0m\u001b[1;32m)\u001b[0m\n",
       "\u001b[1;32m \u001b[0m\u001b[1;32m(\u001b[0m\u001b[1;32mإش ٥٩: ٢٠، ٢ كو ٧: ١٠، لو ١٥، لو ١٥: ٢٠، لو ١٥: ٧\u001b[0m\u001b[1;32m)\u001b[0m\n"
      ]
     },
     "metadata": {},
     "output_type": "display_data"
    },
    {
     "data": {
      "text/html": [
       "<pre style=\"white-space:pre;overflow-x:auto;line-height:normal;font-family:Menlo,'DejaVu Sans Mono',consolas,'Courier New',monospace\"><span style=\"color: #008000; text-decoration-color: #008000; font-weight: bold\">مراجع الدرس:</span>\n",
       "</pre>\n"
      ],
      "text/plain": [
       "\u001b[1;32mمراجع الدرس:\u001b[0m\n"
      ]
     },
     "metadata": {},
     "output_type": "display_data"
    },
    {
     "data": {
      "text/html": [
       "<pre style=\"white-space:pre;overflow-x:auto;line-height:normal;font-family:Menlo,'DejaVu Sans Mono',consolas,'Courier New',monospace\"><span style=\"color: #008000; text-decoration-color: #008000; font-weight: bold\">السنكسار (</span><span style=\"color: #008080; text-decoration-color: #008080; font-weight: bold\">1</span><span style=\"color: #008000; text-decoration-color: #008000; font-weight: bold\"> برمودة)</span>\n",
       "</pre>\n"
      ],
      "text/plain": [
       "\u001b[1;32mالسنكسار \u001b[0m\u001b[1;32m(\u001b[0m\u001b[1;36m1\u001b[0m\u001b[1;32m برمودة\u001b[0m\u001b[1;32m)\u001b[0m\n"
      ]
     },
     "metadata": {},
     "output_type": "display_data"
    },
    {
     "data": {
      "text/html": [
       "<pre style=\"white-space:pre;overflow-x:auto;line-height:normal;font-family:Menlo,'DejaVu Sans Mono',consolas,'Courier New',monospace\"><span style=\"color: #008000; text-decoration-color: #008000; font-weight: bold\">حياة التوبة والنقاوة - البابا شنوده الثالث</span>\n",
       "</pre>\n"
      ],
      "text/plain": [
       "\u001b[1;32mحياة التوبة والنقاوة - البابا شنوده الثالث\u001b[0m\n"
      ]
     },
     "metadata": {},
     "output_type": "display_data"
    },
    {
     "data": {
      "text/html": [
       "<pre style=\"white-space:pre;overflow-x:auto;line-height:normal;font-family:Menlo,'DejaVu Sans Mono',consolas,'Courier New',monospace\"><span style=\"color: #008000; text-decoration-color: #008000; font-weight: bold\">الخادم الأرثوذكسي كنيسة وحياة - القمص بشوي وديع</span>\n",
       "</pre>\n"
      ],
      "text/plain": [
       "\u001b[1;32mالخادم الأرثوذكسي كنيسة وحياة - القمص بشوي وديع\u001b[0m\n"
      ]
     },
     "metadata": {},
     "output_type": "display_data"
    },
    {
     "data": {
      "text/html": [
       "<pre style=\"white-space:pre;overflow-x:auto;line-height:normal;font-family:Menlo,'DejaVu Sans Mono',consolas,'Courier New',monospace\"><span style=\"color: #008000; text-decoration-color: #008000; font-weight: bold\">فكرة حوار</span>\n",
       "</pre>\n"
      ],
      "text/plain": [
       "\u001b[1;32mفكرة حوار\u001b[0m\n"
      ]
     },
     "metadata": {},
     "output_type": "display_data"
    },
    {
     "data": {
      "text/html": [
       "<pre style=\"white-space:pre;overflow-x:auto;line-height:normal;font-family:Menlo,'DejaVu Sans Mono',consolas,'Courier New',monospace\"><span style=\"color: #008000; text-decoration-color: #008000; font-weight: bold\">الأدوات: سبورة وقلم.</span>\n",
       "<span style=\"color: #008000; text-decoration-color: #008000; font-weight: bold\"> طريقة العرض: </span><span style=\"color: #008080; text-decoration-color: #008080; font-weight: bold\">491</span><span style=\"color: #008000; text-decoration-color: #008000; font-weight: bold\"> ÷ </span><span style=\"color: #008080; text-decoration-color: #008080; font-weight: bold\">7</span><span style=\"color: #008000; text-decoration-color: #008000; font-weight: bold\"> × </span><span style=\"color: #008080; text-decoration-color: #008080; font-weight: bold\">283</span><span style=\"color: #008000; text-decoration-color: #008000; font-weight: bold\"> ÷ </span><span style=\"color: #008080; text-decoration-color: #008080; font-weight: bold\">43</span><span style=\"color: #008000; text-decoration-color: #008000; font-weight: bold\"> - </span><span style=\"color: #008080; text-decoration-color: #008080; font-weight: bold\">16</span><span style=\"color: #008000; text-decoration-color: #008000; font-weight: bold\"> = ؟</span>\n",
       "</pre>\n"
      ],
      "text/plain": [
       "\u001b[1;32mالأدوات: سبورة وقلم.\u001b[0m\n",
       "\u001b[1;32m طريقة العرض: \u001b[0m\u001b[1;36m491\u001b[0m\u001b[1;32m ÷ \u001b[0m\u001b[1;36m7\u001b[0m\u001b[1;32m × \u001b[0m\u001b[1;36m283\u001b[0m\u001b[1;32m ÷ \u001b[0m\u001b[1;36m43\u001b[0m\u001b[1;32m - \u001b[0m\u001b[1;36m16\u001b[0m\u001b[1;32m = ؟\u001b[0m\n"
      ]
     },
     "metadata": {},
     "output_type": "display_data"
    },
    {
     "data": {
      "text/html": [
       "<pre style=\"white-space:pre;overflow-x:auto;line-height:normal;font-family:Menlo,'DejaVu Sans Mono',consolas,'Courier New',monospace\"><span style=\"color: #008000; text-decoration-color: #008000; font-weight: bold\">لدينا بعض المسائل الحسابية يجب أن نحلها قبل بدء كلامك، ابدأ بعملية الجمع، ثم يعمل بعض الأخطاء عمدًا، وصحح له النتائج</span>\n",
       "<span style=\"color: #008000; text-decoration-color: #008000; font-weight: bold\">عندما يوضح الأطفال لك، ولكن تسلم عندما تجد نفسك في مشاكل تامة، واعتراضات كثيرة، وما زال النتيجة نهائية، اعترف </span>\n",
       "<span style=\"color: #008000; text-decoration-color: #008000; font-weight: bold\">بالهزيمة، واطلب من بعض الأطفال أن يصححوا الخطأ ويكملوا الجمع، ويمكن أن تؤخذ إجابتهم. اشرح كيف أن كل واحد لديه كثير </span>\n",
       "<span style=\"color: #008000; text-decoration-color: #008000; font-weight: bold\">من الأشياء الخاطئة في حياته؛ اعتراضًا أحيانًا، وعملاً أحيانًا أخرى، بعض الناس يعتقدون أنهم إن إذا استمروا وتجاهلوا هذه</span>\n",
       "<span style=\"color: #008000; text-decoration-color: #008000; font-weight: bold\">الأشياء تكون كما كانت، وتصبح صحيحة في النهاية كما العمليات الحسابية. فهذه ليست خطية، فالخطيئة لا يمكن تجاهلها، يعني</span>\n",
       "<span style=\"color: #008000; text-decoration-color: #008000; font-weight: bold\">إحنا لازم نعترف إننا بنخطئ لله بخطايانا، وإن نقول تائبين؛ إذا جرحنا أي شخص، لا نستطيع أن نتجاهل أعمالنا الخاطئة </span>\n",
       "<span style=\"color: #008000; text-decoration-color: #008000; font-weight: bold\">تمامًا، ونأمل أن تنسى، فهذه ليست طرق الله.</span>\n",
       "</pre>\n"
      ],
      "text/plain": [
       "\u001b[1;32mلدينا بعض المسائل الحسابية يجب أن نحلها قبل بدء كلامك، ابدأ بعملية الجمع، ثم يعمل بعض الأخطاء عمدًا، وصحح له النتائج\u001b[0m\n",
       "\u001b[1;32mعندما يوضح الأطفال لك، ولكن تسلم عندما تجد نفسك في مشاكل تامة، واعتراضات كثيرة، وما زال النتيجة نهائية، اعترف \u001b[0m\n",
       "\u001b[1;32mبالهزيمة، واطلب من بعض الأطفال أن يصححوا الخطأ ويكملوا الجمع، ويمكن أن تؤخذ إجابتهم. اشرح كيف أن كل واحد لديه كثير \u001b[0m\n",
       "\u001b[1;32mمن الأشياء الخاطئة في حياته؛ اعتراضًا أحيانًا، وعملاً أحيانًا أخرى، بعض الناس يعتقدون أنهم إن إذا استمروا وتجاهلوا هذه\u001b[0m\n",
       "\u001b[1;32mالأشياء تكون كما كانت، وتصبح صحيحة في النهاية كما العمليات الحسابية. فهذه ليست خطية، فالخطيئة لا يمكن تجاهلها، يعني\u001b[0m\n",
       "\u001b[1;32mإحنا لازم نعترف إننا بنخطئ لله بخطايانا، وإن نقول تائبين؛ إذا جرحنا أي شخص، لا نستطيع أن نتجاهل أعمالنا الخاطئة \u001b[0m\n",
       "\u001b[1;32mتمامًا، ونأمل أن تنسى، فهذه ليست طرق الله.\u001b[0m\n"
      ]
     },
     "metadata": {},
     "output_type": "display_data"
    },
    {
     "data": {
      "text/html": [
       "<pre style=\"white-space:pre;overflow-x:auto;line-height:normal;font-family:Menlo,'DejaVu Sans Mono',consolas,'Courier New',monospace\"><span style=\"color: #008000; text-decoration-color: #008000; font-weight: bold\">قصة تمهيدية</span>\n",
       "</pre>\n"
      ],
      "text/plain": [
       "\u001b[1;32mقصة تمهيدية\u001b[0m\n"
      ]
     },
     "metadata": {},
     "output_type": "display_data"
    },
    {
     "data": {
      "text/html": [
       "<pre style=\"white-space:pre;overflow-x:auto;line-height:normal;font-family:Menlo,'DejaVu Sans Mono',consolas,'Courier New',monospace\"><span style=\"color: #008000; text-decoration-color: #008000; font-weight: bold\">قال حكيم لاثنين من تلاميذه: اذهبوا وتجولوا لمدة شهر، وكل واحد يحاول الحصول على أثمن شيء في العالم يمكن أن يقدمه </span>\n",
       "<span style=\"color: #008000; text-decoration-color: #008000; font-weight: bold\">الإنسان ليفرح به الله. وعادوا جميعًا واجتمعوا بعد مرور الشهر. فسأل الحكيم تلميذه الأول ماذا وجد أثمن شيء؟ ففتح علبة</span>\n",
       "<span style=\"color: #008000; text-decoration-color: #008000; font-weight: bold\">صغيرة بها لقطعة دم لإنسان ضحى بحياته دفاعًا عن وطنه، فأجاب الحكيم إنها فعلاً ثمينة، لكنها ليست الأثمن.</span>\n",
       "<span style=\"color: #008000; text-decoration-color: #008000; font-weight: bold\"> سأل التلميذ الآخر: ماذا جئت؟ ففتح علبة صغيرة بها لقطعة ماء، وحكى له عن حكايتها. كان التلميذ يتجول لفترة طويلة، </span>\n",
       "<span style=\"color: #008000; text-decoration-color: #008000; font-weight: bold\">وعندما جلس من كبر في الغابة نظر من النافذة فرأى الزوجة تضع طفلها الصغير على الوسادة وهي تعلمه الصلاة، فتوجه إلى </span>\n",
       "<span style=\"color: #008000; text-decoration-color: #008000; font-weight: bold\">يشكر ربنا على جميع بركاته، لما نظر هذا الرجل المنظر نسي ما أقبل على فعله. وتذكر طفولته، وكيف كانت أمه تضعه على </span>\n",
       "<span style=\"color: #008000; text-decoration-color: #008000; font-weight: bold\">الفراش وتصلي الصلاة “أبانا الذي </span><span style=\"color: #808000; text-decoration-color: #808000; font-weight: bold\">...</span><span style=\"color: #008000; text-decoration-color: #008000; font-weight: bold\">” فذاب قلب الرجل من الداخل واحترقت دمعة من عينيه، وأمسك بالدمعة، وأخذها إلى </span>\n",
       "<span style=\"color: #008000; text-decoration-color: #008000; font-weight: bold\">الحكيم وهو يقول: بالتأكيد إن هذه الدمعة هي في الوجود دمعة التوبة، فأبتسم الحكيم بلهجة، وقال هذا أبني التلميذ لقد </span>\n",
       "<span style=\"color: #008000; text-decoration-color: #008000; font-weight: bold\">حضرت أثمن شيء في العالم، دموع التوبة هي التي تفتح السماء.</span>\n",
       "</pre>\n"
      ],
      "text/plain": [
       "\u001b[1;32mقال حكيم لاثنين من تلاميذه: اذهبوا وتجولوا لمدة شهر، وكل واحد يحاول الحصول على أثمن شيء في العالم يمكن أن يقدمه \u001b[0m\n",
       "\u001b[1;32mالإنسان ليفرح به الله. وعادوا جميعًا واجتمعوا بعد مرور الشهر. فسأل الحكيم تلميذه الأول ماذا وجد أثمن شيء؟ ففتح علبة\u001b[0m\n",
       "\u001b[1;32mصغيرة بها لقطعة دم لإنسان ضحى بحياته دفاعًا عن وطنه، فأجاب الحكيم إنها فعلاً ثمينة، لكنها ليست الأثمن.\u001b[0m\n",
       "\u001b[1;32m سأل التلميذ الآخر: ماذا جئت؟ ففتح علبة صغيرة بها لقطعة ماء، وحكى له عن حكايتها. كان التلميذ يتجول لفترة طويلة، \u001b[0m\n",
       "\u001b[1;32mوعندما جلس من كبر في الغابة نظر من النافذة فرأى الزوجة تضع طفلها الصغير على الوسادة وهي تعلمه الصلاة، فتوجه إلى \u001b[0m\n",
       "\u001b[1;32mيشكر ربنا على جميع بركاته، لما نظر هذا الرجل المنظر نسي ما أقبل على فعله. وتذكر طفولته، وكيف كانت أمه تضعه على \u001b[0m\n",
       "\u001b[1;32mالفراش وتصلي الصلاة “أبانا الذي \u001b[0m\u001b[1;33m...\u001b[0m\u001b[1;32m” فذاب قلب الرجل من الداخل واحترقت دمعة من عينيه، وأمسك بالدمعة، وأخذها إلى \u001b[0m\n",
       "\u001b[1;32mالحكيم وهو يقول: بالتأكيد إن هذه الدمعة هي في الوجود دمعة التوبة، فأبتسم الحكيم بلهجة، وقال هذا أبني التلميذ لقد \u001b[0m\n",
       "\u001b[1;32mحضرت أثمن شيء في العالم، دموع التوبة هي التي تفتح السماء.\u001b[0m\n"
      ]
     },
     "metadata": {},
     "output_type": "display_data"
    },
    {
     "data": {
      "text/html": [
       "<pre style=\"white-space:pre;overflow-x:auto;line-height:normal;font-family:Menlo,'DejaVu Sans Mono',consolas,'Courier New',monospace\"><span style=\"color: #008000; text-decoration-color: #008000; font-weight: bold\">🎭 نشاط تمثيلي</span>\n",
       "</pre>\n"
      ],
      "text/plain": [
       "\u001b[1;32m🎭 نشاط تمثيلي\u001b[0m\n"
      ]
     },
     "metadata": {},
     "output_type": "display_data"
    },
    {
     "data": {
      "text/html": [
       "<pre style=\"white-space:pre;overflow-x:auto;line-height:normal;font-family:Menlo,'DejaVu Sans Mono',consolas,'Courier New',monospace\"><span style=\"color: #008000; text-decoration-color: #008000; font-weight: bold\">ملاحظة: نصاع القصة بين بنتين في حالة تدريسها للبنات، وبين ولدين في حالة تدريسها للأولاد مع تغيير ما يلزم. ويمكن </span>\n",
       "<span style=\"color: #008000; text-decoration-color: #008000; font-weight: bold\">تأليف حوار آخر يتناسب مع ما يتعرض له أولادك في هذه المرحلة.</span>\n",
       "</pre>\n"
      ],
      "text/plain": [
       "\u001b[1;32mملاحظة: نصاع القصة بين بنتين في حالة تدريسها للبنات، وبين ولدين في حالة تدريسها للأولاد مع تغيير ما يلزم. ويمكن \u001b[0m\n",
       "\u001b[1;32mتأليف حوار آخر يتناسب مع ما يتعرض له أولادك في هذه المرحلة.\u001b[0m\n"
      ]
     },
     "metadata": {},
     "output_type": "display_data"
    },
    {
     "data": {
      "text/html": [
       "<pre style=\"white-space:pre;overflow-x:auto;line-height:normal;font-family:Menlo,'DejaVu Sans Mono',consolas,'Courier New',monospace\"><span style=\"color: #008000; text-decoration-color: #008000; font-weight: bold\">فوفا: كركي </span><span style=\"color: #808000; text-decoration-color: #808000; font-weight: bold\">...</span><span style=\"color: #008000; text-decoration-color: #008000; font-weight: bold\"> يا كركي ازيك.</span>\n",
       "<span style=\"color: #008000; text-decoration-color: #008000; font-weight: bold\"> كركي: هاي فوفا </span><span style=\"color: #808000; text-decoration-color: #808000; font-weight: bold\">...</span><span style=\"color: #008000; text-decoration-color: #008000; font-weight: bold\"> وحشتيني، إيه ده إنتِ عاملة في نفسك كده ليه؟</span>\n",
       "<span style=\"color: #008000; text-decoration-color: #008000; font-weight: bold\"> فوفا: وأنتِ أكتر </span><span style=\"color: #808000; text-decoration-color: #808000; font-weight: bold\">...</span><span style=\"color: #008000; text-decoration-color: #008000; font-weight: bold\"> ده أصل حاجة عندي هيييييههههه </span><span style=\"color: #808000; text-decoration-color: #808000; font-weight: bold\">...</span>\n",
       "</pre>\n"
      ],
      "text/plain": [
       "\u001b[1;32mفوفا: كركي \u001b[0m\u001b[1;33m...\u001b[0m\u001b[1;32m يا كركي ازيك.\u001b[0m\n",
       "\u001b[1;32m كركي: هاي فوفا \u001b[0m\u001b[1;33m...\u001b[0m\u001b[1;32m وحشتيني، إيه ده إنتِ عاملة في نفسك كده ليه؟\u001b[0m\n",
       "\u001b[1;32m فوفا: وأنتِ أكتر \u001b[0m\u001b[1;33m...\u001b[0m\u001b[1;32m ده أصل حاجة عندي هيييييههههه \u001b[0m\u001b[1;33m...\u001b[0m\n"
      ]
     },
     "metadata": {},
     "output_type": "display_data"
    },
    {
     "data": {
      "text/html": [
       "<pre style=\"white-space:pre;overflow-x:auto;line-height:normal;font-family:Menlo,'DejaVu Sans Mono',consolas,'Courier New',monospace\"><span style=\"color: #008000; text-decoration-color: #008000; font-weight: bold\">كركي: يا بنتي مالك؟</span>\n",
       "<span style=\"color: #008000; text-decoration-color: #008000; font-weight: bold\"> فوفا: أقول لك سر بس ما تقوليش لحد.</span>\n",
       "<span style=\"color: #008000; text-decoration-color: #008000; font-weight: bold\"> كركي: خير.</span>\n",
       "<span style=\"color: #008000; text-decoration-color: #008000; font-weight: bold\"> فوفا: أصلي أنا بصراحة قابلت boy friend بتاعي بس ما تقوليش لحد.</span>\n",
       "<span style=\"color: #008000; text-decoration-color: #008000; font-weight: bold\"> كركي: إيه يا لهوي إنتِ بتقولي إيه!</span>\n",
       "<span style=\"color: #008000; text-decoration-color: #008000; font-weight: bold\"> فوفا: أبوه فيها يا كل اللي في سني عندهم أصحاب أولاد.</span>\n",
       "<span style=\"color: #008000; text-decoration-color: #008000; font-weight: bold\"> كركي: إيه الموبايل الجديد ده؟</span>\n",
       "<span style=\"color: #008000; text-decoration-color: #008000; font-weight: bold\"> فوفا: آه ده أنتي أول مرة تشوفيه، ده هو اللي جابهولي هدية.</span>\n",
       "<span style=\"color: #008000; text-decoration-color: #008000; font-weight: bold\"> كركي: كمان بياخدك منه هدايا. يا بنتي ده غلط خالص.</span>\n",
       "<span style=\"color: #008000; text-decoration-color: #008000; font-weight: bold\"> فوفا: ليه يعني </span><span style=\"color: #808000; text-decoration-color: #808000; font-weight: bold\">...</span><span style=\"color: #008000; text-decoration-color: #008000; font-weight: bold\"> وفيها إيه أنا كل أصحابي اللي معايا في المدرسة بيعملوا كده.</span>\n",
       "<span style=\"color: #008000; text-decoration-color: #008000; font-weight: bold\"> كركي: أبوه أصحابك اللي في المدرسة مش أولاد ربنا، لكن أولاد ربنا ما يعملوش كده، وأولاً إحنا لسه صغرين في سنة سادسة </span>\n",
       "<span style=\"color: #008000; text-decoration-color: #008000; font-weight: bold\">ابتدائي، المفروض ما نعملش الحاجات دي، اللي بيعملوا كده دول لازم يبقوا كبار ومسئولين، كمان أنتِ نسيتي القصص اللي </span>\n",
       "<span style=\"color: #008000; text-decoration-color: #008000; font-weight: bold\">كانوا بيقولوها لنا الخدام عن الطهارة والعفة، لازم أولاد ربنا يبقوا أنقياء ويبعدوا عن أي حاجة غلط ممكن تبعدهم عن </span>\n",
       "<span style=\"color: #008000; text-decoration-color: #008000; font-weight: bold\">ربنا.</span>\n",
       "<span style=\"color: #008000; text-decoration-color: #008000; font-weight: bold\"> فوفا: يعني اللي أنا بعمله ده ما يعجبش ربنا.</span>\n",
       "<span style=\"color: #008000; text-decoration-color: #008000; font-weight: bold\"> كركي: أبوه طبعاً ده غلط خالص، وكمان لازم تبعدي عن أصحابك الوحشين اللي معاكي في المدرسة وتقطعي علاقتك بالولد ده </span>\n",
       "<span style=\"color: #008000; text-decoration-color: #008000; font-weight: bold\">خالص، إحنا لسه صغيرين على كده، وطبعاً بتخبي عليهم في البيت وكأنك بتسرقي، وكمان ده يعتبر خطية لازم تعترفي بيها لو </span>\n",
       "<span style=\"color: #008000; text-decoration-color: #008000; font-weight: bold\">إعترفك.</span>\n",
       "<span style=\"color: #008000; text-decoration-color: #008000; font-weight: bold\"> فوفا: ياه ده </span><span style=\"color: #808000; text-decoration-color: #808000; font-weight: bold\">...</span><span style=\"color: #008000; text-decoration-color: #008000; font-weight: bold\"> أنا مكنتش أعرف كل ده، أنا قلبي بس ألقاه أصحابي، ببسط شوية.</span>\n",
       "<span style=\"color: #008000; text-decoration-color: #008000; font-weight: bold\"> كركي: لا طبعاً دي تعتبر خطية، ولازم تقدمي توبة عنها، بس المهم كركي مقتنعة تماماً إنك مش هتعملي كده تاني.</span>\n",
       "<span style=\"color: #008000; text-decoration-color: #008000; font-weight: bold\"> فوفا: حاضر، لكن ربنا هيسامحني ويقبل توبتي؟</span>\n",
       "<span style=\"color: #008000; text-decoration-color: #008000; font-weight: bold\"> كركي: ما تقلقيش ربنا حنين جداً، وبيحبك وما يقبل توبتك، المهم ما تعمليش كده تاني، فكرتيني بمريم المصرية، عارفة </span>\n",
       "<span style=\"color: #008000; text-decoration-color: #008000; font-weight: bold\">حكايتها؟</span>\n",
       "</pre>\n"
      ],
      "text/plain": [
       "\u001b[1;32mكركي: يا بنتي مالك؟\u001b[0m\n",
       "\u001b[1;32m فوفا: أقول لك سر بس ما تقوليش لحد.\u001b[0m\n",
       "\u001b[1;32m كركي: خير.\u001b[0m\n",
       "\u001b[1;32m فوفا: أصلي أنا بصراحة قابلت boy friend بتاعي بس ما تقوليش لحد.\u001b[0m\n",
       "\u001b[1;32m كركي: إيه يا لهوي إنتِ بتقولي إيه!\u001b[0m\n",
       "\u001b[1;32m فوفا: أبوه فيها يا كل اللي في سني عندهم أصحاب أولاد.\u001b[0m\n",
       "\u001b[1;32m كركي: إيه الموبايل الجديد ده؟\u001b[0m\n",
       "\u001b[1;32m فوفا: آه ده أنتي أول مرة تشوفيه، ده هو اللي جابهولي هدية.\u001b[0m\n",
       "\u001b[1;32m كركي: كمان بياخدك منه هدايا. يا بنتي ده غلط خالص.\u001b[0m\n",
       "\u001b[1;32m فوفا: ليه يعني \u001b[0m\u001b[1;33m...\u001b[0m\u001b[1;32m وفيها إيه أنا كل أصحابي اللي معايا في المدرسة بيعملوا كده.\u001b[0m\n",
       "\u001b[1;32m كركي: أبوه أصحابك اللي في المدرسة مش أولاد ربنا، لكن أولاد ربنا ما يعملوش كده، وأولاً إحنا لسه صغرين في سنة سادسة \u001b[0m\n",
       "\u001b[1;32mابتدائي، المفروض ما نعملش الحاجات دي، اللي بيعملوا كده دول لازم يبقوا كبار ومسئولين، كمان أنتِ نسيتي القصص اللي \u001b[0m\n",
       "\u001b[1;32mكانوا بيقولوها لنا الخدام عن الطهارة والعفة، لازم أولاد ربنا يبقوا أنقياء ويبعدوا عن أي حاجة غلط ممكن تبعدهم عن \u001b[0m\n",
       "\u001b[1;32mربنا.\u001b[0m\n",
       "\u001b[1;32m فوفا: يعني اللي أنا بعمله ده ما يعجبش ربنا.\u001b[0m\n",
       "\u001b[1;32m كركي: أبوه طبعاً ده غلط خالص، وكمان لازم تبعدي عن أصحابك الوحشين اللي معاكي في المدرسة وتقطعي علاقتك بالولد ده \u001b[0m\n",
       "\u001b[1;32mخالص، إحنا لسه صغيرين على كده، وطبعاً بتخبي عليهم في البيت وكأنك بتسرقي، وكمان ده يعتبر خطية لازم تعترفي بيها لو \u001b[0m\n",
       "\u001b[1;32mإعترفك.\u001b[0m\n",
       "\u001b[1;32m فوفا: ياه ده \u001b[0m\u001b[1;33m...\u001b[0m\u001b[1;32m أنا مكنتش أعرف كل ده، أنا قلبي بس ألقاه أصحابي، ببسط شوية.\u001b[0m\n",
       "\u001b[1;32m كركي: لا طبعاً دي تعتبر خطية، ولازم تقدمي توبة عنها، بس المهم كركي مقتنعة تماماً إنك مش هتعملي كده تاني.\u001b[0m\n",
       "\u001b[1;32m فوفا: حاضر، لكن ربنا هيسامحني ويقبل توبتي؟\u001b[0m\n",
       "\u001b[1;32m كركي: ما تقلقيش ربنا حنين جداً، وبيحبك وما يقبل توبتك، المهم ما تعمليش كده تاني، فكرتيني بمريم المصرية، عارفة \u001b[0m\n",
       "\u001b[1;32mحكايتها؟\u001b[0m\n"
      ]
     },
     "metadata": {},
     "output_type": "display_data"
    },
    {
     "data": {
      "text/html": [
       "<pre style=\"white-space:pre;overflow-x:auto;line-height:normal;font-family:Menlo,'DejaVu Sans Mono',consolas,'Courier New',monospace\"><span style=\"color: #008000; text-decoration-color: #008000; font-weight: bold\">وُلدت القديسة مريم المصرية في مدينة الإسكندرية من أبوين مسيحيين </span><span style=\"color: #808000; text-decoration-color: #808000; font-weight: bold\">...</span><span style=\"color: #008000; text-decoration-color: #008000; font-weight: bold\"> ولكن للأسف لما كان عندها </span><span style=\"color: #008080; text-decoration-color: #008080; font-weight: bold\">12</span><span style=\"color: #008000; text-decoration-color: #008000; font-weight: bold\"> سنة </span><span style=\"color: #808000; text-decoration-color: #808000; font-weight: bold\">...</span><span style=\"color: #008000; text-decoration-color: #008000; font-weight: bold\"> ابتدأ </span>\n",
       "<span style=\"color: #008000; text-decoration-color: #008000; font-weight: bold\">الشيطان في خداعها وأغواها </span><span style=\"color: #808000; text-decoration-color: #808000; font-weight: bold\">...</span><span style=\"color: #008000; text-decoration-color: #008000; font-weight: bold\"> فسقطت في خطية الزنا </span><span style=\"color: #808000; text-decoration-color: #808000; font-weight: bold\">...</span><span style=\"color: #008000; text-decoration-color: #008000; font-weight: bold\"> وفضلت على الحال ده لمدة </span><span style=\"color: #008080; text-decoration-color: #008080; font-weight: bold\">17</span><span style=\"color: #008000; text-decoration-color: #008000; font-weight: bold\"> سنة كانت عايشة فيها بعيدة عن ربنا </span>\n",
       "<span style=\"color: #808000; text-decoration-color: #808000; font-weight: bold\">...</span><span style=\"color: #008000; text-decoration-color: #008000; font-weight: bold\"> وكانت خطاياها صعبة جداً، لكن طبعاً ربنا لا يشاء موت الخاطئ وحب يسيب أولاده يبعد عنـه </span><span style=\"color: #808000; text-decoration-color: #808000; font-weight: bold\">...</span><span style=\"color: #008000; text-decoration-color: #008000; font-weight: bold\"> ففى يوم في الصيف </span><span style=\"color: #808000; text-decoration-color: #808000; font-weight: bold\">...</span><span style=\"color: #008000; text-decoration-color: #008000; font-weight: bold\"> </span>\n",
       "<span style=\"color: #008000; text-decoration-color: #008000; font-weight: bold\">شافت إن فيه سفينة كانت مسافرة لأورشليم علشان تحضر عيد الصليب هناك </span><span style=\"color: #808000; text-decoration-color: #808000; font-weight: bold\">...</span><span style=\"color: #008000; text-decoration-color: #008000; font-weight: bold\"> فقررت إنها تروح معاهم </span><span style=\"color: #808000; text-decoration-color: #808000; font-weight: bold\">...</span><span style=\"color: #008000; text-decoration-color: #008000; font-weight: bold\"> وفعلاً سافرت هناك، </span>\n",
       "<span style=\"color: #008000; text-decoration-color: #008000; font-weight: bold\">وهي داخلة كنيسة القيامة حست إن رجليها اتسمّرت في الأرض </span><span style=\"color: #808000; text-decoration-color: #808000; font-weight: bold\">...</span><span style=\"color: #008000; text-decoration-color: #008000; font-weight: bold\"> وإن فيه قوة بتمنعها من الدخول للكنيسة، ساعتها بس ابتدت </span>\n",
       "<span style=\"color: #008000; text-decoration-color: #008000; font-weight: bold\">تفوق، وحسّت قد إيه هي خاطئة وبعيدة عن ربنا وكانت بتبكي بشدة، وطلبت من العدرا </span><span style=\"color: #808000; text-decoration-color: #808000; font-weight: bold\">...</span><span style=\"color: #008000; text-decoration-color: #008000; font-weight: bold\"> يا شفيعة من الخطاة: إدخليّنا نتقابل</span>\n",
       "<span style=\"color: #008000; text-decoration-color: #008000; font-weight: bold\">مع ربنا وناخد بركة القيامة، ووعدتها إنها فعلاً إن عادت للطريق المستقيم، وفجأة وفي وسط دموعها وندمها لقيت رجليها </span>\n",
       "<span style=\"color: #008000; text-decoration-color: #008000; font-weight: bold\">ابتدأت تتحرك وتدخل الكنيسة، وقعدت هناك كتير بتشكر ربنا إنه غفر لها ذنوبها الكتيرة، ووعدت ربنا إنها هتعيش توبة </span>\n",
       "<span style=\"color: #008000; text-decoration-color: #008000; font-weight: bold\">حقيقية.</span>\n",
       "</pre>\n"
      ],
      "text/plain": [
       "\u001b[1;32mوُلدت القديسة مريم المصرية في مدينة الإسكندرية من أبوين مسيحيين \u001b[0m\u001b[1;33m...\u001b[0m\u001b[1;32m ولكن للأسف لما كان عندها \u001b[0m\u001b[1;36m12\u001b[0m\u001b[1;32m سنة \u001b[0m\u001b[1;33m...\u001b[0m\u001b[1;32m ابتدأ \u001b[0m\n",
       "\u001b[1;32mالشيطان في خداعها وأغواها \u001b[0m\u001b[1;33m...\u001b[0m\u001b[1;32m فسقطت في خطية الزنا \u001b[0m\u001b[1;33m...\u001b[0m\u001b[1;32m وفضلت على الحال ده لمدة \u001b[0m\u001b[1;36m17\u001b[0m\u001b[1;32m سنة كانت عايشة فيها بعيدة عن ربنا \u001b[0m\n",
       "\u001b[1;33m...\u001b[0m\u001b[1;32m وكانت خطاياها صعبة جداً، لكن طبعاً ربنا لا يشاء موت الخاطئ وحب يسيب أولاده يبعد عنـه \u001b[0m\u001b[1;33m...\u001b[0m\u001b[1;32m ففى يوم في الصيف \u001b[0m\u001b[1;33m...\u001b[0m\u001b[1;32m \u001b[0m\n",
       "\u001b[1;32mشافت إن فيه سفينة كانت مسافرة لأورشليم علشان تحضر عيد الصليب هناك \u001b[0m\u001b[1;33m...\u001b[0m\u001b[1;32m فقررت إنها تروح معاهم \u001b[0m\u001b[1;33m...\u001b[0m\u001b[1;32m وفعلاً سافرت هناك، \u001b[0m\n",
       "\u001b[1;32mوهي داخلة كنيسة القيامة حست إن رجليها اتسمّرت في الأرض \u001b[0m\u001b[1;33m...\u001b[0m\u001b[1;32m وإن فيه قوة بتمنعها من الدخول للكنيسة، ساعتها بس ابتدت \u001b[0m\n",
       "\u001b[1;32mتفوق، وحسّت قد إيه هي خاطئة وبعيدة عن ربنا وكانت بتبكي بشدة، وطلبت من العدرا \u001b[0m\u001b[1;33m...\u001b[0m\u001b[1;32m يا شفيعة من الخطاة: إدخليّنا نتقابل\u001b[0m\n",
       "\u001b[1;32mمع ربنا وناخد بركة القيامة، ووعدتها إنها فعلاً إن عادت للطريق المستقيم، وفجأة وفي وسط دموعها وندمها لقيت رجليها \u001b[0m\n",
       "\u001b[1;32mابتدأت تتحرك وتدخل الكنيسة، وقعدت هناك كتير بتشكر ربنا إنه غفر لها ذنوبها الكتيرة، ووعدت ربنا إنها هتعيش توبة \u001b[0m\n",
       "\u001b[1;32mحقيقية.\u001b[0m\n"
      ]
     },
     "metadata": {},
     "output_type": "display_data"
    },
    {
     "data": {
      "text/html": [
       "<pre style=\"white-space:pre;overflow-x:auto;line-height:normal;font-family:Menlo,'DejaVu Sans Mono',consolas,'Courier New',monospace\"><span style=\"color: #008000; text-decoration-color: #008000; font-weight: bold\">خرجت ماجتش تاني إلى أهلها أو أرايبها، ووسط ما هي بتمشي قدام أبواب القيامة، سمعت صوت بيقول لها: </span><span style=\"color: #008000; text-decoration-color: #008000\">\"اعبري الأردن وتلاقي</span>\n",
       "<span style=\"color: #008000; text-decoration-color: #008000\">راحتك هناك\"</span><span style=\"color: #008000; text-decoration-color: #008000; font-weight: bold\"> </span><span style=\"color: #808000; text-decoration-color: #808000; font-weight: bold\">...</span><span style=\"color: #008000; text-decoration-color: #008000; font-weight: bold\"> فـفعلاً خرجت من أورشليم، وعبرت نهر الأردن، وأخذت معاها ٣ أرغفة من الفضة، وعيشت على ثلاثة أرغفة من </span>\n",
       "<span style=\"color: #008000; text-decoration-color: #008000; font-weight: bold\">الخبز جنب نهر الأردن في البرية، وأخذت تعيش في الصحراء القاحلة وكانت في البرية هناك ٤٧ سنة في صلاة لربنا </span><span style=\"color: #808000; text-decoration-color: #808000; font-weight: bold\">...</span><span style=\"color: #008000; text-decoration-color: #008000; font-weight: bold\"> وكان </span>\n",
       "<span style=\"color: #008000; text-decoration-color: #008000; font-weight: bold\">أكلها من الحشائش، وكانت القديسة مريم في حروب شديدة جداً من الشيطان، وفي الآخر خضعت، واتغلبت عليه.</span>\n",
       "</pre>\n"
      ],
      "text/plain": [
       "\u001b[1;32mخرجت ماجتش تاني إلى أهلها أو أرايبها، ووسط ما هي بتمشي قدام أبواب القيامة، سمعت صوت بيقول لها: \u001b[0m\u001b[32m\"اعبري الأردن وتلاقي\u001b[0m\n",
       "\u001b[32mراحتك هناك\"\u001b[0m\u001b[1;32m \u001b[0m\u001b[1;33m...\u001b[0m\u001b[1;32m فـفعلاً خرجت من أورشليم، وعبرت نهر الأردن، وأخذت معاها ٣ أرغفة من الفضة، وعيشت على ثلاثة أرغفة من \u001b[0m\n",
       "\u001b[1;32mالخبز جنب نهر الأردن في البرية، وأخذت تعيش في الصحراء القاحلة وكانت في البرية هناك ٤٧ سنة في صلاة لربنا \u001b[0m\u001b[1;33m...\u001b[0m\u001b[1;32m وكان \u001b[0m\n",
       "\u001b[1;32mأكلها من الحشائش، وكانت القديسة مريم في حروب شديدة جداً من الشيطان، وفي الآخر خضعت، واتغلبت عليه.\u001b[0m\n"
      ]
     },
     "metadata": {},
     "output_type": "display_data"
    },
    {
     "data": {
      "text/html": [
       "<pre style=\"white-space:pre;overflow-x:auto;line-height:normal;font-family:Menlo,'DejaVu Sans Mono',consolas,'Courier New',monospace\"><span style=\"color: #008000; text-decoration-color: #008000; font-weight: bold\">وفي آخر حياتها في البرية قابلت قديس اسمه </span><span style=\"color: #008000; text-decoration-color: #008000\">\"القديس زوسيما\"</span><span style=\"color: #008000; text-decoration-color: #008000; font-weight: bold\"> الناس هناك، وشافها من بعيد، فافتكرها خيال، وطلب من ربنا </span>\n",
       "<span style=\"color: #008000; text-decoration-color: #008000; font-weight: bold\">إنه يكتشف له مين الإنسان اللي قابله، ولما قرب منها نادته عليه باسمه، فـاتعجب هو طبعاً إزاي عرفت اسمه من غير ما </span>\n",
       "<span style=\"color: #008000; text-decoration-color: #008000; font-weight: bold\">يشوفه، وطلبت منه إنه يديها التناول، علشان دموعها كانت دايبة ومتقطعة من طول المدة، فـحكى على كل حكايتها، وطلبت منه </span>\n",
       "<span style=\"color: #008000; text-decoration-color: #008000; font-weight: bold\">إنه يجيي السنة اللي جاية علشان يناولها </span><span style=\"color: #808000; text-decoration-color: #808000; font-weight: bold\">...</span><span style=\"color: #008000; text-decoration-color: #008000; font-weight: bold\"> وفعلاً جاء، ولاقاها نايمة شبه ميتة، فـناولها </span><span style=\"color: #808000; text-decoration-color: #808000; font-weight: bold\">...</span><span style=\"color: #008000; text-decoration-color: #008000; font-weight: bold\"> وطلبت منه إنه يجيي السنة</span>\n",
       "<span style=\"color: #008000; text-decoration-color: #008000; font-weight: bold\">اللي بعدها في نفس المعاد </span><span style=\"color: #808000; text-decoration-color: #808000; font-weight: bold\">...</span><span style=\"color: #008000; text-decoration-color: #008000; font-weight: bold\"> وفعلاً جاء، لكن كان في انتظاره مفاجأة، إنه وجد أن القديسة تنيحت </span><span style=\"color: #808000; text-decoration-color: #808000; font-weight: bold\">...</span><span style=\"color: #008000; text-decoration-color: #008000; font-weight: bold\"> وكان فيه ليها رسالة</span>\n",
       "<span style=\"color: #008000; text-decoration-color: #008000; font-weight: bold\">بجنبها مكتوب </span><span style=\"color: #808000; text-decoration-color: #808000; font-weight: bold\">...</span><span style=\"color: #008000; text-decoration-color: #008000; font-weight: bold\"> </span><span style=\"color: #008000; text-decoration-color: #008000\">\"ادفن مريم المسكينة في التراب اللي هي اخلقت منه وإن تراب لا يفتخر ع الأرض\"</span><span style=\"color: #008000; text-decoration-color: #008000; font-weight: bold\"> </span><span style=\"color: #808000; text-decoration-color: #808000; font-weight: bold\">...</span><span style=\"color: #008000; text-decoration-color: #008000; font-weight: bold\"> وفعلاً صلى عليها </span>\n",
       "<span style=\"color: #008000; text-decoration-color: #008000; font-weight: bold\">ودفنها، ورجع إلى ديره، وفي أواخر الرهبان سيرتها، ولقبّوها بلقب السيرة الإلهية، وعاشت </span><span style=\"color: #008080; text-decoration-color: #008080; font-weight: bold\">76</span><span style=\"color: #008000; text-decoration-color: #008000; font-weight: bold\"> سنة.</span>\n",
       "</pre>\n"
      ],
      "text/plain": [
       "\u001b[1;32mوفي آخر حياتها في البرية قابلت قديس اسمه \u001b[0m\u001b[32m\"القديس زوسيما\"\u001b[0m\u001b[1;32m الناس هناك، وشافها من بعيد، فافتكرها خيال، وطلب من ربنا \u001b[0m\n",
       "\u001b[1;32mإنه يكتشف له مين الإنسان اللي قابله، ولما قرب منها نادته عليه باسمه، فـاتعجب هو طبعاً إزاي عرفت اسمه من غير ما \u001b[0m\n",
       "\u001b[1;32mيشوفه، وطلبت منه إنه يديها التناول، علشان دموعها كانت دايبة ومتقطعة من طول المدة، فـحكى على كل حكايتها، وطلبت منه \u001b[0m\n",
       "\u001b[1;32mإنه يجيي السنة اللي جاية علشان يناولها \u001b[0m\u001b[1;33m...\u001b[0m\u001b[1;32m وفعلاً جاء، ولاقاها نايمة شبه ميتة، فـناولها \u001b[0m\u001b[1;33m...\u001b[0m\u001b[1;32m وطلبت منه إنه يجيي السنة\u001b[0m\n",
       "\u001b[1;32mاللي بعدها في نفس المعاد \u001b[0m\u001b[1;33m...\u001b[0m\u001b[1;32m وفعلاً جاء، لكن كان في انتظاره مفاجأة، إنه وجد أن القديسة تنيحت \u001b[0m\u001b[1;33m...\u001b[0m\u001b[1;32m وكان فيه ليها رسالة\u001b[0m\n",
       "\u001b[1;32mبجنبها مكتوب \u001b[0m\u001b[1;33m...\u001b[0m\u001b[1;32m \u001b[0m\u001b[32m\"ادفن مريم المسكينة في التراب اللي هي اخلقت منه وإن تراب لا يفتخر ع الأرض\"\u001b[0m\u001b[1;32m \u001b[0m\u001b[1;33m...\u001b[0m\u001b[1;32m وفعلاً صلى عليها \u001b[0m\n",
       "\u001b[1;32mودفنها، ورجع إلى ديره، وفي أواخر الرهبان سيرتها، ولقبّوها بلقب السيرة الإلهية، وعاشت \u001b[0m\u001b[1;36m76\u001b[0m\u001b[1;32m سنة.\u001b[0m\n"
      ]
     },
     "metadata": {},
     "output_type": "display_data"
    },
    {
     "data": {
      "text/html": [
       "<pre style=\"white-space:pre;overflow-x:auto;line-height:normal;font-family:Menlo,'DejaVu Sans Mono',consolas,'Courier New',monospace\"><span style=\"color: #008000; text-decoration-color: #008000; font-weight: bold\">تحتفل الكنيسة بتنايحها يوم ١ برمودة اللي يوافق دايمًا </span><span style=\"color: #008080; text-decoration-color: #008080; font-weight: bold\">9</span><span style=\"color: #008000; text-decoration-color: #008000; font-weight: bold\"> إبريل</span>\n",
       "</pre>\n"
      ],
      "text/plain": [
       "\u001b[1;32mتحتفل الكنيسة بتنايحها يوم ١ برمودة اللي يوافق دايمًا \u001b[0m\u001b[1;36m9\u001b[0m\u001b[1;32m إبريل\u001b[0m\n"
      ]
     },
     "metadata": {},
     "output_type": "display_data"
    },
    {
     "data": {
      "text/html": [
       "<pre style=\"white-space:pre;overflow-x:auto;line-height:normal;font-family:Menlo,'DejaVu Sans Mono',consolas,'Courier New',monospace\"><span style=\"color: #00ff00; text-decoration-color: #00ff00\">──────────────────────────────────────────────── </span>Human Translation<span style=\"color: #00ff00; text-decoration-color: #00ff00\"> ────────────────────────────────────────────────</span>\n",
       "</pre>\n"
      ],
      "text/plain": [
       "\u001b[92m──────────────────────────────────────────────── \u001b[0mHuman Translation\u001b[92m ────────────────────────────────────────────────\u001b[0m\n"
      ]
     },
     "metadata": {},
     "output_type": "display_data"
    },
    {
     "data": {
      "text/html": [
       "<pre style=\"white-space:pre;overflow-x:auto;line-height:normal;font-family:Menlo,'DejaVu Sans Mono',consolas,'Courier New',monospace\"><span style=\"color: #000080; text-decoration-color: #000080; font-weight: bold\">Zweite Woche des Monats Baramhat (März)</span>\n",
       "<span style=\"color: #000080; text-decoration-color: #000080; font-weight: bold\"> Siebte Lektion: Die Heilige Damiane</span>\n",
       "<span style=\"color: #000080; text-decoration-color: #000080; font-weight: bold\"> Eine Geschichte der Reue</span>\n",
       "<span style=\"color: #000080; text-decoration-color: #000080; font-weight: bold\"> Nächste Lektion: Die Nacht von Apoghalmesis</span>\n",
       "</pre>\n"
      ],
      "text/plain": [
       "\u001b[1;34mZweite Woche des Monats Baramhat \u001b[0m\u001b[1;34m(\u001b[0m\u001b[1;34mMärz\u001b[0m\u001b[1;34m)\u001b[0m\n",
       "\u001b[1;34m Siebte Lektion: Die Heilige Damiane\u001b[0m\n",
       "\u001b[1;34m Eine Geschichte der Reue\u001b[0m\n",
       "\u001b[1;34m Nächste Lektion: Die Nacht von Apoghalmesis\u001b[0m\n"
      ]
     },
     "metadata": {},
     "output_type": "display_data"
    },
    {
     "data": {
      "text/html": [
       "<pre style=\"white-space:pre;overflow-x:auto;line-height:normal;font-family:Menlo,'DejaVu Sans Mono',consolas,'Courier New',monospace\"><span style=\"color: #000080; text-decoration-color: #000080; font-weight: bold\">Maria die Ägypterin</span>\n",
       "<span style=\"color: #000080; text-decoration-color: #000080; font-weight: bold\"> Bildungsschwerpunkt: Ein Tag auf Reise (Väterlich)</span>\n",
       "</pre>\n"
      ],
      "text/plain": [
       "\u001b[1;34mMaria die Ägypterin\u001b[0m\n",
       "\u001b[1;34m Bildungsschwerpunkt: Ein Tag auf Reise \u001b[0m\u001b[1;34m(\u001b[0m\u001b[1;34mVäterlich\u001b[0m\u001b[1;34m)\u001b[0m\n"
      ]
     },
     "metadata": {},
     "output_type": "display_data"
    },
    {
     "data": {
      "text/html": [
       "<pre style=\"white-space:pre;overflow-x:auto;line-height:normal;font-family:Menlo,'DejaVu Sans Mono',consolas,'Courier New',monospace\"><span style=\"color: #000080; text-decoration-color: #000080; font-weight: bold\">Lehrinhalt:</span>\n",
       "<span style=\"color: #000080; text-decoration-color: #000080; font-weight: bold\"> „Gott, mein Retter, hat mir die Tür der Reue geöffnet. Niemand kann sie mir verschließen. Mit offenen Armen am </span>\n",
       "<span style=\"color: #000080; text-decoration-color: #000080; font-weight: bold\">Kreuz empfängt er mich voller Freude über meine Rückkehr.“</span>\n",
       "</pre>\n"
      ],
      "text/plain": [
       "\u001b[1;34mLehrinhalt:\u001b[0m\n",
       "\u001b[1;34m „Gott, mein Retter, hat mir die Tür der Reue geöffnet. Niemand kann sie mir verschließen. Mit offenen Armen am \u001b[0m\n",
       "\u001b[1;34mKreuz empfängt er mich voller Freude über meine Rückkehr.“\u001b[0m\n"
      ]
     },
     "metadata": {},
     "output_type": "display_data"
    },
    {
     "data": {
      "text/html": [
       "<pre style=\"white-space:pre;overflow-x:auto;line-height:normal;font-family:Menlo,'DejaVu Sans Mono',consolas,'Courier New',monospace\"><span style=\"color: #000080; text-decoration-color: #000080; font-weight: bold\">Lernvers:</span>\n",
       "<span style=\"color: #000080; text-decoration-color: #000080; font-weight: bold\"> „Entsündige mich mit Ysop, dann werde ich rein, wasche mich, dann werde ich weißer sein als Schnee.“</span>\n",
       "<span style=\"color: #000080; text-decoration-color: #000080; font-weight: bold\"> (Psalm </span><span style=\"color: #00ff00; text-decoration-color: #00ff00; font-weight: bold\">50:7</span><span style=\"color: #000080; text-decoration-color: #000080; font-weight: bold\"> - koptisch)</span>\n",
       "</pre>\n"
      ],
      "text/plain": [
       "\u001b[1;34mLernvers:\u001b[0m\n",
       "\u001b[1;34m „Entsündige mich mit Ysop, dann werde ich rein, wasche mich, dann werde ich weißer sein als Schnee.“\u001b[0m\n",
       "\u001b[1;34m \u001b[0m\u001b[1;34m(\u001b[0m\u001b[1;34mPsalm \u001b[0m\u001b[1;92m50:7\u001b[0m\u001b[1;34m - koptisch\u001b[0m\u001b[1;34m)\u001b[0m\n"
      ]
     },
     "metadata": {},
     "output_type": "display_data"
    },
    {
     "data": {
      "text/html": [
       "<pre style=\"white-space:pre;overflow-x:auto;line-height:normal;font-family:Menlo,'DejaVu Sans Mono',consolas,'Courier New',monospace\"><span style=\"color: #000080; text-decoration-color: #000080; font-weight: bold\">Ziel der Lektion:</span>\n",
       "</pre>\n"
      ],
      "text/plain": [
       "\u001b[1;34mZiel der Lektion:\u001b[0m\n"
      ]
     },
     "metadata": {},
     "output_type": "display_data"
    },
    {
     "data": {
      "text/html": [
       "<pre style=\"white-space:pre;overflow-x:auto;line-height:normal;font-family:Menlo,'DejaVu Sans Mono',consolas,'Courier New',monospace\"><span style=\"color: #000080; text-decoration-color: #000080; font-weight: bold\">Dem Kind helfen:</span>\n",
       "</pre>\n"
      ],
      "text/plain": [
       "\u001b[1;34mDem Kind helfen:\u001b[0m\n"
      ]
     },
     "metadata": {},
     "output_type": "display_data"
    },
    {
     "data": {
      "text/html": [
       "<pre style=\"white-space:pre;overflow-x:auto;line-height:normal;font-family:Menlo,'DejaVu Sans Mono',consolas,'Courier New',monospace\"><span style=\"color: #000080; text-decoration-color: #000080; font-weight: bold\">Erkennen: Die Kraft der Reue der Heiligen Maria die Ägypterin.</span>\n",
       "</pre>\n"
      ],
      "text/plain": [
       "\u001b[1;34mErkennen: Die Kraft der Reue der Heiligen Maria die Ägypterin.\u001b[0m\n"
      ]
     },
     "metadata": {},
     "output_type": "display_data"
    },
    {
     "data": {
      "text/html": [
       "<pre style=\"white-space:pre;overflow-x:auto;line-height:normal;font-family:Menlo,'DejaVu Sans Mono',consolas,'Courier New',monospace\"><span style=\"color: #000080; text-decoration-color: #000080; font-weight: bold\">Fühlen: Gottes Liebe und Vergebung – egal wie groß unsere Sünden sind.</span>\n",
       "</pre>\n"
      ],
      "text/plain": [
       "\u001b[1;34mFühlen: Gottes Liebe und Vergebung – egal wie groß unsere Sünden sind.\u001b[0m\n"
      ]
     },
     "metadata": {},
     "output_type": "display_data"
    },
    {
     "data": {
      "text/html": [
       "<pre style=\"white-space:pre;overflow-x:auto;line-height:normal;font-family:Menlo,'DejaVu Sans Mono',consolas,'Courier New',monospace\"><span style=\"color: #000080; text-decoration-color: #000080; font-weight: bold\">Nachahmen: Wahre und anhaltende Reue.</span>\n",
       "</pre>\n"
      ],
      "text/plain": [
       "\u001b[1;34mNachahmen: Wahre und anhaltende Reue.\u001b[0m\n"
      ]
     },
     "metadata": {},
     "output_type": "display_data"
    },
    {
     "data": {
      "text/html": [
       "<pre style=\"white-space:pre;overflow-x:auto;line-height:normal;font-family:Menlo,'DejaVu Sans Mono',consolas,'Courier New',monospace\"><span style=\"color: #000080; text-decoration-color: #000080; font-weight: bold\">Bibelstellen:</span>\n",
       "</pre>\n"
      ],
      "text/plain": [
       "\u001b[1;34mBibelstellen:\u001b[0m\n"
      ]
     },
     "metadata": {},
     "output_type": "display_data"
    },
    {
     "data": {
      "text/html": [
       "<pre style=\"white-space:pre;overflow-x:auto;line-height:normal;font-family:Menlo,'DejaVu Sans Mono',consolas,'Courier New',monospace\"><span style=\"color: #000080; text-decoration-color: #000080; font-weight: bold\">Joel </span><span style=\"color: #00ff00; text-decoration-color: #00ff00; font-weight: bold\">2:12</span><span style=\"color: #000080; text-decoration-color: #000080; font-weight: bold\">–</span><span style=\"color: #008080; text-decoration-color: #008080; font-weight: bold\">13</span><span style=\"color: #000080; text-decoration-color: #000080; font-weight: bold\">, Hosea </span><span style=\"color: #00ff00; text-decoration-color: #00ff00; font-weight: bold\">14:1</span><span style=\"color: #000080; text-decoration-color: #000080; font-weight: bold\">, Jesaja </span><span style=\"color: #00ff00; text-decoration-color: #00ff00; font-weight: bold\">59:20</span><span style=\"color: #000080; text-decoration-color: #000080; font-weight: bold\">, </span><span style=\"color: #008080; text-decoration-color: #008080; font-weight: bold\">2</span><span style=\"color: #000080; text-decoration-color: #000080; font-weight: bold\"> Kor </span><span style=\"color: #00ff00; text-decoration-color: #00ff00; font-weight: bold\">7:10</span><span style=\"color: #000080; text-decoration-color: #000080; font-weight: bold\">, Lukas </span><span style=\"color: #00ff00; text-decoration-color: #00ff00; font-weight: bold\">15:7</span><span style=\"color: #000080; text-decoration-color: #000080; font-weight: bold\">, Lukas </span><span style=\"color: #00ff00; text-decoration-color: #00ff00; font-weight: bold\">15:20</span>\n",
       "</pre>\n"
      ],
      "text/plain": [
       "\u001b[1;34mJoel \u001b[0m\u001b[1;92m2:12\u001b[0m\u001b[1;34m–\u001b[0m\u001b[1;36m13\u001b[0m\u001b[1;34m, Hosea \u001b[0m\u001b[1;92m14:1\u001b[0m\u001b[1;34m, Jesaja \u001b[0m\u001b[1;92m59:20\u001b[0m\u001b[1;34m, \u001b[0m\u001b[1;36m2\u001b[0m\u001b[1;34m Kor \u001b[0m\u001b[1;92m7:10\u001b[0m\u001b[1;34m, Lukas \u001b[0m\u001b[1;92m15:7\u001b[0m\u001b[1;34m, Lukas \u001b[0m\u001b[1;92m15:20\u001b[0m\n"
      ]
     },
     "metadata": {},
     "output_type": "display_data"
    },
    {
     "data": {
      "text/html": [
       "<pre style=\"white-space:pre;overflow-x:auto;line-height:normal;font-family:Menlo,'DejaVu Sans Mono',consolas,'Courier New',monospace\"><span style=\"color: #000080; text-decoration-color: #000080; font-weight: bold\">Quellen der Lektion:</span>\n",
       "</pre>\n"
      ],
      "text/plain": [
       "\u001b[1;34mQuellen der Lektion:\u001b[0m\n"
      ]
     },
     "metadata": {},
     "output_type": "display_data"
    },
    {
     "data": {
      "text/html": [
       "<pre style=\"white-space:pre;overflow-x:auto;line-height:normal;font-family:Menlo,'DejaVu Sans Mono',consolas,'Courier New',monospace\"><span style=\"color: #000080; text-decoration-color: #000080; font-weight: bold\">Synaxarion (</span><span style=\"color: #008080; text-decoration-color: #008080; font-weight: bold\">1</span><span style=\"color: #000080; text-decoration-color: #000080; font-weight: bold\"> Baramouda)</span>\n",
       "</pre>\n"
      ],
      "text/plain": [
       "\u001b[1;34mSynaxarion \u001b[0m\u001b[1;34m(\u001b[0m\u001b[1;36m1\u001b[0m\u001b[1;34m Baramouda\u001b[0m\u001b[1;34m)\u001b[0m\n"
      ]
     },
     "metadata": {},
     "output_type": "display_data"
    },
    {
     "data": {
      "text/html": [
       "<pre style=\"white-space:pre;overflow-x:auto;line-height:normal;font-family:Menlo,'DejaVu Sans Mono',consolas,'Courier New',monospace\"><span style=\"color: #000080; text-decoration-color: #000080; font-weight: bold\">„Das Leben der Reue und Reinheit“ – Papst Schenouda III</span>\n",
       "</pre>\n"
      ],
      "text/plain": [
       "\u001b[1;34m„Das Leben der Reue und Reinheit“ – Papst Schenouda III\u001b[0m\n"
      ]
     },
     "metadata": {},
     "output_type": "display_data"
    },
    {
     "data": {
      "text/html": [
       "<pre style=\"white-space:pre;overflow-x:auto;line-height:normal;font-family:Menlo,'DejaVu Sans Mono',consolas,'Courier New',monospace\"><span style=\"color: #000080; text-decoration-color: #000080; font-weight: bold\">„Der orthodoxe Diener: Kirche und Leben“ – Pater Bishoy Wadie</span>\n",
       "</pre>\n"
      ],
      "text/plain": [
       "\u001b[1;34m„Der orthodoxe Diener: Kirche und Leben“ – Pater Bishoy Wadie\u001b[0m\n"
      ]
     },
     "metadata": {},
     "output_type": "display_data"
    },
    {
     "data": {
      "text/html": [
       "<pre style=\"white-space:pre;overflow-x:auto;line-height:normal;font-family:Menlo,'DejaVu Sans Mono',consolas,'Courier New',monospace\"><span style=\"color: #000080; text-decoration-color: #000080; font-weight: bold\">Gesprächsidee</span>\n",
       "</pre>\n"
      ],
      "text/plain": [
       "\u001b[1;34mGesprächsidee\u001b[0m\n"
      ]
     },
     "metadata": {},
     "output_type": "display_data"
    },
    {
     "data": {
      "text/html": [
       "<pre style=\"white-space:pre;overflow-x:auto;line-height:normal;font-family:Menlo,'DejaVu Sans Mono',consolas,'Courier New',monospace\"><span style=\"color: #000080; text-decoration-color: #000080; font-weight: bold\">Materialien: Tafel und Stift</span>\n",
       "<span style=\"color: #000080; text-decoration-color: #000080; font-weight: bold\"> Einstieg mit einer Rechenaufgabe:</span>\n",
       "<span style=\"color: #000080; text-decoration-color: #000080; font-weight: bold\"> </span><span style=\"color: #008080; text-decoration-color: #008080; font-weight: bold\">491</span><span style=\"color: #000080; text-decoration-color: #000080; font-weight: bold\"> ÷ </span><span style=\"color: #008080; text-decoration-color: #008080; font-weight: bold\">7</span><span style=\"color: #000080; text-decoration-color: #000080; font-weight: bold\"> × </span><span style=\"color: #008080; text-decoration-color: #008080; font-weight: bold\">283</span><span style=\"color: #000080; text-decoration-color: #000080; font-weight: bold\"> ÷ </span><span style=\"color: #008080; text-decoration-color: #008080; font-weight: bold\">43</span><span style=\"color: #000080; text-decoration-color: #000080; font-weight: bold\"> - </span><span style=\"color: #008080; text-decoration-color: #008080; font-weight: bold\">16</span><span style=\"color: #000080; text-decoration-color: #000080; font-weight: bold\"> = ?</span>\n",
       "</pre>\n"
      ],
      "text/plain": [
       "\u001b[1;34mMaterialien: Tafel und Stift\u001b[0m\n",
       "\u001b[1;34m Einstieg mit einer Rechenaufgabe:\u001b[0m\n",
       "\u001b[1;34m \u001b[0m\u001b[1;36m491\u001b[0m\u001b[1;34m ÷ \u001b[0m\u001b[1;36m7\u001b[0m\u001b[1;34m × \u001b[0m\u001b[1;36m283\u001b[0m\u001b[1;34m ÷ \u001b[0m\u001b[1;36m43\u001b[0m\u001b[1;34m - \u001b[0m\u001b[1;36m16\u001b[0m\u001b[1;34m = ?\u001b[0m\n"
      ]
     },
     "metadata": {},
     "output_type": "display_data"
    },
    {
     "data": {
      "text/html": [
       "<pre style=\"white-space:pre;overflow-x:auto;line-height:normal;font-family:Menlo,'DejaVu Sans Mono',consolas,'Courier New',monospace\"><span style=\"color: #000080; text-decoration-color: #000080; font-weight: bold\">Wir haben einige mathematische Aufgaben, die wir lösen sollen, aber es passieren absichtlich Fehler – irgendwann </span>\n",
       "<span style=\"color: #000080; text-decoration-color: #000080; font-weight: bold\">erkennt man, dass das Ergebnis falsch ist. Dies kann als Gleichnis verwendet werden: So wie falsche Rechnungen </span>\n",
       "<span style=\"color: #000080; text-decoration-color: #000080; font-weight: bold\">nicht von selbst richtig werden, so verschwinden auch unsere Sünden nicht, wenn wir sie ignorieren. Wir müssen </span>\n",
       "<span style=\"color: #000080; text-decoration-color: #000080; font-weight: bold\">unsere Fehler zugeben und Gott um Vergebung bitten. Zu hoffen, dass sie von allein verschwinden, ist nicht der Weg </span>\n",
       "<span style=\"color: #000080; text-decoration-color: #000080; font-weight: bold\">Gottes.</span>\n",
       "</pre>\n"
      ],
      "text/plain": [
       "\u001b[1;34mWir haben einige mathematische Aufgaben, die wir lösen sollen, aber es passieren absichtlich Fehler – irgendwann \u001b[0m\n",
       "\u001b[1;34merkennt man, dass das Ergebnis falsch ist. Dies kann als Gleichnis verwendet werden: So wie falsche Rechnungen \u001b[0m\n",
       "\u001b[1;34mnicht von selbst richtig werden, so verschwinden auch unsere Sünden nicht, wenn wir sie ignorieren. Wir müssen \u001b[0m\n",
       "\u001b[1;34munsere Fehler zugeben und Gott um Vergebung bitten. Zu hoffen, dass sie von allein verschwinden, ist nicht der Weg \u001b[0m\n",
       "\u001b[1;34mGottes.\u001b[0m\n"
      ]
     },
     "metadata": {},
     "output_type": "display_data"
    },
    {
     "data": {
      "text/html": [
       "<pre style=\"white-space:pre;overflow-x:auto;line-height:normal;font-family:Menlo,'DejaVu Sans Mono',consolas,'Courier New',monospace\"><span style=\"color: #000080; text-decoration-color: #000080; font-weight: bold\">Einführende Geschichte</span>\n",
       "</pre>\n"
      ],
      "text/plain": [
       "\u001b[1;34mEinführende Geschichte\u001b[0m\n"
      ]
     },
     "metadata": {},
     "output_type": "display_data"
    },
    {
     "data": {
      "text/html": [
       "<pre style=\"white-space:pre;overflow-x:auto;line-height:normal;font-family:Menlo,'DejaVu Sans Mono',consolas,'Courier New',monospace\"><span style=\"color: #000080; text-decoration-color: #000080; font-weight: bold\">Ein weiser Mann bat zwei seiner Schüler, für einen Monat zu reisen und den wertvollsten Gegenstand zu finden, den </span>\n",
       "<span style=\"color: #000080; text-decoration-color: #000080; font-weight: bold\">ein Mensch Gott als Geschenk darbringen könnte. Nach einem Monat kamen sie zurück.</span>\n",
       "</pre>\n"
      ],
      "text/plain": [
       "\u001b[1;34mEin weiser Mann bat zwei seiner Schüler, für einen Monat zu reisen und den wertvollsten Gegenstand zu finden, den \u001b[0m\n",
       "\u001b[1;34mein Mensch Gott als Geschenk darbringen könnte. Nach einem Monat kamen sie zurück.\u001b[0m\n"
      ]
     },
     "metadata": {},
     "output_type": "display_data"
    },
    {
     "data": {
      "text/html": [
       "<pre style=\"white-space:pre;overflow-x:auto;line-height:normal;font-family:Menlo,'DejaVu Sans Mono',consolas,'Courier New',monospace\"><span style=\"color: #000080; text-decoration-color: #000080; font-weight: bold\">Der erste Schüler brachte eine kleine Schachtel mit Blut eines Soldaten, der sein Leben für sein Land gegeben </span>\n",
       "<span style=\"color: #000080; text-decoration-color: #000080; font-weight: bold\">hatte. Der Weise sagte: „Das ist wertvoll, aber nicht das Wertvollste.“</span>\n",
       "</pre>\n"
      ],
      "text/plain": [
       "\u001b[1;34mDer erste Schüler brachte eine kleine Schachtel mit Blut eines Soldaten, der sein Leben für sein Land gegeben \u001b[0m\n",
       "\u001b[1;34mhatte. Der Weise sagte: „Das ist wertvoll, aber nicht das Wertvollste.“\u001b[0m\n"
      ]
     },
     "metadata": {},
     "output_type": "display_data"
    },
    {
     "data": {
      "text/html": [
       "<pre style=\"white-space:pre;overflow-x:auto;line-height:normal;font-family:Menlo,'DejaVu Sans Mono',consolas,'Courier New',monospace\"><span style=\"color: #000080; text-decoration-color: #000080; font-weight: bold\">Der zweite Schüler brachte eine kleine Flasche mit einer Träne. Er erzählte, wie er einen Mann gesehen hatte, der </span>\n",
       "<span style=\"color: #000080; text-decoration-color: #000080; font-weight: bold\">bei der Erinnerung an das Gebet seiner Mutter während seiner Kindheit gerührt wurde und eine Träne der Reue weinte.</span>\n",
       "<span style=\"color: #000080; text-decoration-color: #000080; font-weight: bold\">Diese Träne, so sagte der Weise, ist das Wertvollste auf der Welt – denn die Träne der Reue öffnet den Himmel.</span>\n",
       "</pre>\n"
      ],
      "text/plain": [
       "\u001b[1;34mDer zweite Schüler brachte eine kleine Flasche mit einer Träne. Er erzählte, wie er einen Mann gesehen hatte, der \u001b[0m\n",
       "\u001b[1;34mbei der Erinnerung an das Gebet seiner Mutter während seiner Kindheit gerührt wurde und eine Träne der Reue weinte.\u001b[0m\n",
       "\u001b[1;34mDiese Träne, so sagte der Weise, ist das Wertvollste auf der Welt – denn die Träne der Reue öffnet den Himmel.\u001b[0m\n"
      ]
     },
     "metadata": {},
     "output_type": "display_data"
    },
    {
     "data": {
      "text/html": [
       "<pre style=\"white-space:pre;overflow-x:auto;line-height:normal;font-family:Menlo,'DejaVu Sans Mono',consolas,'Courier New',monospace\"><span style=\"color: #000080; text-decoration-color: #000080; font-weight: bold\">🎭 Rollenspiel</span>\n",
       "</pre>\n"
      ],
      "text/plain": [
       "\u001b[1;34m🎭 Rollenspiel\u001b[0m\n"
      ]
     },
     "metadata": {},
     "output_type": "display_data"
    },
    {
     "data": {
      "text/html": [
       "<pre style=\"white-space:pre;overflow-x:auto;line-height:normal;font-family:Menlo,'DejaVu Sans Mono',consolas,'Courier New',monospace\"><span style=\"color: #000080; text-decoration-color: #000080; font-weight: bold\">Hinweis: Der Text kann je nach Zielgruppe (Mädchen oder Jungen) angepasst werden. Ein neuer Dialog kann </span>\n",
       "<span style=\"color: #000080; text-decoration-color: #000080; font-weight: bold\">entsprechend der realen Lebenswelt der Kinder gestaltet werden.</span>\n",
       "</pre>\n"
      ],
      "text/plain": [
       "\u001b[1;34mHinweis: Der Text kann je nach Zielgruppe \u001b[0m\u001b[1;34m(\u001b[0m\u001b[1;34mMädchen oder Jungen\u001b[0m\u001b[1;34m)\u001b[0m\u001b[1;34m angepasst werden. Ein neuer Dialog kann \u001b[0m\n",
       "\u001b[1;34mentsprechend der realen Lebenswelt der Kinder gestaltet werden.\u001b[0m\n"
      ]
     },
     "metadata": {},
     "output_type": "display_data"
    },
    {
     "data": {
      "text/html": [
       "<pre style=\"white-space:pre;overflow-x:auto;line-height:normal;font-family:Menlo,'DejaVu Sans Mono',consolas,'Courier New',monospace\"><span style=\"color: #000080; text-decoration-color: #000080; font-weight: bold\">Foufa: Karki</span><span style=\"color: #808000; text-decoration-color: #808000; font-weight: bold\">...</span><span style=\"color: #000080; text-decoration-color: #000080; font-weight: bold\"> Hey, wie geht’s dir?</span>\n",
       "<span style=\"color: #000080; text-decoration-color: #000080; font-weight: bold\"> Karki: Hi Foufa</span><span style=\"color: #808000; text-decoration-color: #808000; font-weight: bold\">...</span><span style=\"color: #000080; text-decoration-color: #000080; font-weight: bold\"> Ich hab dich vermisst! Was hast du mit dir gemacht?</span>\n",
       "<span style=\"color: #000080; text-decoration-color: #000080; font-weight: bold\"> Foufa: Ich hab ein Geheimnis, aber du darfst es niemandem sagen</span><span style=\"color: #808000; text-decoration-color: #808000; font-weight: bold\">...</span>\n",
       "<span style=\"color: #000080; text-decoration-color: #000080; font-weight: bold\"> Karki: Was denn?</span>\n",
       "<span style=\"color: #000080; text-decoration-color: #000080; font-weight: bold\"> Foufa: Ich habe jetzt einen Freund – aber psst, keinem erzählen!</span>\n",
       "<span style=\"color: #000080; text-decoration-color: #000080; font-weight: bold\"> Karki: Was?! Wie bitte?!</span>\n",
       "<span style=\"color: #000080; text-decoration-color: #000080; font-weight: bold\"> Foufa: Ach komm, alle in meinem Alter haben Jungsfreunde.</span>\n",
       "<span style=\"color: #000080; text-decoration-color: #000080; font-weight: bold\"> Karki: Und was ist das für ein neues Handy?</span>\n",
       "<span style=\"color: #000080; text-decoration-color: #000080; font-weight: bold\"> Foufa: Das hat er mir geschenkt.</span>\n",
       "<span style=\"color: #000080; text-decoration-color: #000080; font-weight: bold\"> Karki: Er schenkt dir sogar Sachen? Das ist total falsch!</span>\n",
       "<span style=\"color: #000080; text-decoration-color: #000080; font-weight: bold\"> Foufa: Warum denn? Alle meine Freundinnen machen das.</span>\n",
       "<span style=\"color: #000080; text-decoration-color: #000080; font-weight: bold\"> Karki: Deine Freundinnen gehören nicht zu Gott. Wir gehören zu Gott, und so etwas machen wir nicht. Wir sind noch </span>\n",
       "<span style=\"color: #000080; text-decoration-color: #000080; font-weight: bold\">in der </span><span style=\"color: #008080; text-decoration-color: #008080; font-weight: bold\">6</span><span style=\"color: #000080; text-decoration-color: #000080; font-weight: bold\">. Klasse – wir sollten uns mit sowas nicht beschäftigen. Wir sollen rein und heilig leben, fern von allem, </span>\n",
       "<span style=\"color: #000080; text-decoration-color: #000080; font-weight: bold\">was uns von Gott wegführt.</span>\n",
       "<span style=\"color: #000080; text-decoration-color: #000080; font-weight: bold\"> Foufa: Also ist das, was ich mache, nicht gut vor Gott?</span>\n",
       "<span style=\"color: #000080; text-decoration-color: #000080; font-weight: bold\"> Karki: Genau. Es ist sogar Sünde, und du musst dich davon trennen und beichten.</span>\n",
       "<span style=\"color: #000080; text-decoration-color: #000080; font-weight: bold\"> Foufa: Ich wusste das alles nicht. Ich dachte nur, es macht Spaß.</span>\n",
       "<span style=\"color: #000080; text-decoration-color: #000080; font-weight: bold\"> Karki: Spaß darf nicht auf Kosten unserer Beziehung zu Gott gehen. Es ist eine Sünde. Und du musst umkehren und </span>\n",
       "<span style=\"color: #000080; text-decoration-color: #000080; font-weight: bold\">dich bessern. Aber das Wichtigste ist: Glaubst du wirklich, dass Gott dir vergibt?</span>\n",
       "<span style=\"color: #000080; text-decoration-color: #000080; font-weight: bold\"> Foufa: Wird er meine Reue annehmen?</span>\n",
       "<span style=\"color: #000080; text-decoration-color: #000080; font-weight: bold\"> Karki: Natürlich! Gott ist voller Liebe und Geduld. Denk mal an Maria die Ägypterin – kennst du ihre Geschichte?</span>\n",
       "</pre>\n"
      ],
      "text/plain": [
       "\u001b[1;34mFoufa: Karki\u001b[0m\u001b[1;33m...\u001b[0m\u001b[1;34m Hey, wie geht’s dir?\u001b[0m\n",
       "\u001b[1;34m Karki: Hi Foufa\u001b[0m\u001b[1;33m...\u001b[0m\u001b[1;34m Ich hab dich vermisst! Was hast du mit dir gemacht?\u001b[0m\n",
       "\u001b[1;34m Foufa: Ich hab ein Geheimnis, aber du darfst es niemandem sagen\u001b[0m\u001b[1;33m...\u001b[0m\n",
       "\u001b[1;34m Karki: Was denn?\u001b[0m\n",
       "\u001b[1;34m Foufa: Ich habe jetzt einen Freund – aber psst, keinem erzählen!\u001b[0m\n",
       "\u001b[1;34m Karki: Was?! Wie bitte?!\u001b[0m\n",
       "\u001b[1;34m Foufa: Ach komm, alle in meinem Alter haben Jungsfreunde.\u001b[0m\n",
       "\u001b[1;34m Karki: Und was ist das für ein neues Handy?\u001b[0m\n",
       "\u001b[1;34m Foufa: Das hat er mir geschenkt.\u001b[0m\n",
       "\u001b[1;34m Karki: Er schenkt dir sogar Sachen? Das ist total falsch!\u001b[0m\n",
       "\u001b[1;34m Foufa: Warum denn? Alle meine Freundinnen machen das.\u001b[0m\n",
       "\u001b[1;34m Karki: Deine Freundinnen gehören nicht zu Gott. Wir gehören zu Gott, und so etwas machen wir nicht. Wir sind noch \u001b[0m\n",
       "\u001b[1;34min der \u001b[0m\u001b[1;36m6\u001b[0m\u001b[1;34m. Klasse – wir sollten uns mit sowas nicht beschäftigen. Wir sollen rein und heilig leben, fern von allem, \u001b[0m\n",
       "\u001b[1;34mwas uns von Gott wegführt.\u001b[0m\n",
       "\u001b[1;34m Foufa: Also ist das, was ich mache, nicht gut vor Gott?\u001b[0m\n",
       "\u001b[1;34m Karki: Genau. Es ist sogar Sünde, und du musst dich davon trennen und beichten.\u001b[0m\n",
       "\u001b[1;34m Foufa: Ich wusste das alles nicht. Ich dachte nur, es macht Spaß.\u001b[0m\n",
       "\u001b[1;34m Karki: Spaß darf nicht auf Kosten unserer Beziehung zu Gott gehen. Es ist eine Sünde. Und du musst umkehren und \u001b[0m\n",
       "\u001b[1;34mdich bessern. Aber das Wichtigste ist: Glaubst du wirklich, dass Gott dir vergibt?\u001b[0m\n",
       "\u001b[1;34m Foufa: Wird er meine Reue annehmen?\u001b[0m\n",
       "\u001b[1;34m Karki: Natürlich! Gott ist voller Liebe und Geduld. Denk mal an Maria die Ägypterin – kennst du ihre Geschichte?\u001b[0m\n"
      ]
     },
     "metadata": {},
     "output_type": "display_data"
    },
    {
     "data": {
      "text/html": [
       "<pre style=\"white-space:pre;overflow-x:auto;line-height:normal;font-family:Menlo,'DejaVu Sans Mono',consolas,'Courier New',monospace\"><span style=\"color: #000080; text-decoration-color: #000080; font-weight: bold\">Lebensgeschichte der Heiligen Maria die Ägypterin</span>\n",
       "</pre>\n"
      ],
      "text/plain": [
       "\u001b[1;34mLebensgeschichte der Heiligen Maria die Ägypterin\u001b[0m\n"
      ]
     },
     "metadata": {},
     "output_type": "display_data"
    },
    {
     "data": {
      "text/html": [
       "<pre style=\"white-space:pre;overflow-x:auto;line-height:normal;font-family:Menlo,'DejaVu Sans Mono',consolas,'Courier New',monospace\"><span style=\"color: #000080; text-decoration-color: #000080; font-weight: bold\">Maria wurde in Alexandria in eine christliche Familie geboren. Doch mit </span><span style=\"color: #008080; text-decoration-color: #008080; font-weight: bold\">12</span><span style=\"color: #000080; text-decoration-color: #000080; font-weight: bold\"> Jahren verführte sie der Teufel, und sie</span>\n",
       "<span style=\"color: #000080; text-decoration-color: #000080; font-weight: bold\">fiel in schwere Sünde. Sie lebte </span><span style=\"color: #008080; text-decoration-color: #008080; font-weight: bold\">17</span><span style=\"color: #000080; text-decoration-color: #000080; font-weight: bold\"> Jahre weit weg von Gott in einem ausschweifenden Leben.</span>\n",
       "</pre>\n"
      ],
      "text/plain": [
       "\u001b[1;34mMaria wurde in Alexandria in eine christliche Familie geboren. Doch mit \u001b[0m\u001b[1;36m12\u001b[0m\u001b[1;34m Jahren verführte sie der Teufel, und sie\u001b[0m\n",
       "\u001b[1;34mfiel in schwere Sünde. Sie lebte \u001b[0m\u001b[1;36m17\u001b[0m\u001b[1;34m Jahre weit weg von Gott in einem ausschweifenden Leben.\u001b[0m\n"
      ]
     },
     "metadata": {},
     "output_type": "display_data"
    },
    {
     "data": {
      "text/html": [
       "<pre style=\"white-space:pre;overflow-x:auto;line-height:normal;font-family:Menlo,'DejaVu Sans Mono',consolas,'Courier New',monospace\"><span style=\"color: #000080; text-decoration-color: #000080; font-weight: bold\">Eines Tages sah sie ein Schiff nach Jerusalem fahren – um das Kreuzfest zu feiern – und beschloss mitzugehen. Als </span>\n",
       "<span style=\"color: #000080; text-decoration-color: #000080; font-weight: bold\">sie jedoch die Grabeskirche betreten wollte, konnte sie sich nicht bewegen – als ob eine unsichtbare Kraft sie </span>\n",
       "<span style=\"color: #000080; text-decoration-color: #000080; font-weight: bold\">daran hinderte.</span>\n",
       "</pre>\n"
      ],
      "text/plain": [
       "\u001b[1;34mEines Tages sah sie ein Schiff nach Jerusalem fahren – um das Kreuzfest zu feiern – und beschloss mitzugehen. Als \u001b[0m\n",
       "\u001b[1;34msie jedoch die Grabeskirche betreten wollte, konnte sie sich nicht bewegen – als ob eine unsichtbare Kraft sie \u001b[0m\n",
       "\u001b[1;34mdaran hinderte.\u001b[0m\n"
      ]
     },
     "metadata": {},
     "output_type": "display_data"
    },
    {
     "data": {
      "text/html": [
       "<pre style=\"white-space:pre;overflow-x:auto;line-height:normal;font-family:Menlo,'DejaVu Sans Mono',consolas,'Courier New',monospace\"><span style=\"color: #000080; text-decoration-color: #000080; font-weight: bold\">In diesem Moment erkannte sie ihr sündiges Leben. Sie weinte bitterlich und rief zur Mutter Gottes: „Lass mich Gott</span>\n",
       "<span style=\"color: #000080; text-decoration-color: #000080; font-weight: bold\">begegnen, und ich verspreche, mein Leben zu ändern.“ Plötzlich konnte sie gehen und trat in die Kirche ein.</span>\n",
       "</pre>\n"
      ],
      "text/plain": [
       "\u001b[1;34mIn diesem Moment erkannte sie ihr sündiges Leben. Sie weinte bitterlich und rief zur Mutter Gottes: „Lass mich Gott\u001b[0m\n",
       "\u001b[1;34mbegegnen, und ich verspreche, mein Leben zu ändern.“ Plötzlich konnte sie gehen und trat in die Kirche ein.\u001b[0m\n"
      ]
     },
     "metadata": {},
     "output_type": "display_data"
    },
    {
     "data": {
      "text/html": [
       "<pre style=\"white-space:pre;overflow-x:auto;line-height:normal;font-family:Menlo,'DejaVu Sans Mono',consolas,'Courier New',monospace\"><span style=\"color: #000080; text-decoration-color: #000080; font-weight: bold\">Sie verließ Jerusalem, überquerte den Jordan und lebte </span><span style=\"color: #008080; text-decoration-color: #008080; font-weight: bold\">47</span><span style=\"color: #000080; text-decoration-color: #000080; font-weight: bold\"> Jahre in der Wüste in Gebet und Reue. Ihr Essen bestand </span>\n",
       "<span style=\"color: #000080; text-decoration-color: #000080; font-weight: bold\">aus Kräutern, und sie kämpfte stark gegen Versuchungen, doch Gott gab ihr Kraft.</span>\n",
       "</pre>\n"
      ],
      "text/plain": [
       "\u001b[1;34mSie verließ Jerusalem, überquerte den Jordan und lebte \u001b[0m\u001b[1;36m47\u001b[0m\u001b[1;34m Jahre in der Wüste in Gebet und Reue. Ihr Essen bestand \u001b[0m\n",
       "\u001b[1;34maus Kräutern, und sie kämpfte stark gegen Versuchungen, doch Gott gab ihr Kraft.\u001b[0m\n"
      ]
     },
     "metadata": {},
     "output_type": "display_data"
    },
    {
     "data": {
      "text/html": [
       "<pre style=\"white-space:pre;overflow-x:auto;line-height:normal;font-family:Menlo,'DejaVu Sans Mono',consolas,'Courier New',monospace\"><span style=\"color: #000080; text-decoration-color: #000080; font-weight: bold\">Am Ende ihres Lebens begegnete ihr der heilige Zosimas, der sie auf wundersame Weise fand. Sie kannte seinen Namen </span>\n",
       "<span style=\"color: #000080; text-decoration-color: #000080; font-weight: bold\">ohne Vorstellung – durch den Heiligen Geist. Sie bat um die Kommunion und beichtete ihm ihr Leben.</span>\n",
       "</pre>\n"
      ],
      "text/plain": [
       "\u001b[1;34mAm Ende ihres Lebens begegnete ihr der heilige Zosimas, der sie auf wundersame Weise fand. Sie kannte seinen Namen \u001b[0m\n",
       "\u001b[1;34mohne Vorstellung – durch den Heiligen Geist. Sie bat um die Kommunion und beichtete ihm ihr Leben.\u001b[0m\n"
      ]
     },
     "metadata": {},
     "output_type": "display_data"
    },
    {
     "data": {
      "text/html": [
       "<pre style=\"white-space:pre;overflow-x:auto;line-height:normal;font-family:Menlo,'DejaVu Sans Mono',consolas,'Courier New',monospace\"><span style=\"color: #000080; text-decoration-color: #000080; font-weight: bold\">Ein Jahr später kam er zurück und fand sie entschlafen, mit einer Nachricht neben ihrem Körper:</span>\n",
       "<span style=\"color: #000080; text-decoration-color: #000080; font-weight: bold\"> „Begrabe Maria, die arme Sünderin, im Staub, aus dem sie gemacht ist. Und der Staub soll sich nicht rühmen.“</span>\n",
       "</pre>\n"
      ],
      "text/plain": [
       "\u001b[1;34mEin Jahr später kam er zurück und fand sie entschlafen, mit einer Nachricht neben ihrem Körper:\u001b[0m\n",
       "\u001b[1;34m „Begrabe Maria, die arme Sünderin, im Staub, aus dem sie gemacht ist. Und der Staub soll sich nicht rühmen.“\u001b[0m\n"
      ]
     },
     "metadata": {},
     "output_type": "display_data"
    },
    {
     "data": {
      "text/html": [
       "<pre style=\"white-space:pre;overflow-x:auto;line-height:normal;font-family:Menlo,'DejaVu Sans Mono',consolas,'Courier New',monospace\"><span style=\"color: #000080; text-decoration-color: #000080; font-weight: bold\">Sie lebte </span><span style=\"color: #008080; text-decoration-color: #008080; font-weight: bold\">76</span><span style=\"color: #000080; text-decoration-color: #000080; font-weight: bold\"> Jahre. Die Kirche gedenkt ihrer am </span><span style=\"color: #008080; text-decoration-color: #008080; font-weight: bold\">1</span><span style=\"color: #000080; text-decoration-color: #000080; font-weight: bold\">. Baramouda (</span><span style=\"color: #008080; text-decoration-color: #008080; font-weight: bold\">9</span><span style=\"color: #000080; text-decoration-color: #000080; font-weight: bold\">. April).</span>\n",
       "</pre>\n"
      ],
      "text/plain": [
       "\u001b[1;34mSie lebte \u001b[0m\u001b[1;36m76\u001b[0m\u001b[1;34m Jahre. Die Kirche gedenkt ihrer am \u001b[0m\u001b[1;36m1\u001b[0m\u001b[1;34m. Baramouda \u001b[0m\u001b[1;34m(\u001b[0m\u001b[1;36m9\u001b[0m\u001b[1;34m. April\u001b[0m\u001b[1;34m)\u001b[0m\u001b[1;34m.\u001b[0m\n"
      ]
     },
     "metadata": {},
     "output_type": "display_data"
    },
    {
     "data": {
      "text/html": [
       "<pre style=\"white-space:pre;overflow-x:auto;line-height:normal;font-family:Menlo,'DejaVu Sans Mono',consolas,'Courier New',monospace\"><span style=\"color: #000080; text-decoration-color: #000080; font-weight: bold\">.</span>\n",
       "</pre>\n"
      ],
      "text/plain": [
       "\u001b[1;34m.\u001b[0m\n"
      ]
     },
     "metadata": {},
     "output_type": "display_data"
    }
   ],
   "source": [
    "# Instantiate LLM Translator\n",
    "translator = ArabicToGermanTranslator()\n",
    "console = Console()\n",
    "\n",
    "doc_path = \"../docs/processed/Zweite Woche des Monats Baramhat (März)_Maria die Ägypterin.docx\"\n",
    "german_start = \"===GERMAN START===\"  # adjust based on your document\n",
    "\n",
    "processor = DocumentProcessor(doc_path, german_start)\n",
    "arabic_paragraphs, human_translations = processor.extract_text()\n",
    "\n",
    "console.rule(\"Original Arabic\")\n",
    "for a in arabic_paragraphs:\n",
    "    console.print(a, style=\"bold green\")\n",
    "\n",
    "console.rule(\"Human Translation\")\n",
    "for h in human_translations:\n",
    "    console.print(h, style=\"bold blue\")"
   ]
  },
  {
   "cell_type": "markdown",
   "id": "3215d7be-5b24-49fc-a5dc-0140123993a0",
   "metadata": {},
   "source": [
    "### Translation Lesson using LLM Model"
   ]
  },
  {
   "cell_type": "code",
   "execution_count": 21,
   "id": "a81efc39-7dbf-4468-81be-abd5d48f19e2",
   "metadata": {},
   "outputs": [
    {
     "data": {
      "text/html": [
       "<pre style=\"white-space:pre;overflow-x:auto;line-height:normal;font-family:Menlo,'DejaVu Sans Mono',consolas,'Courier New',monospace\"><span style=\"color: #00ff00; text-decoration-color: #00ff00\">───────────────────────────────────────────────── </span>LLM Translation<span style=\"color: #00ff00; text-decoration-color: #00ff00\"> ─────────────────────────────────────────────────</span>\n",
       "</pre>\n"
      ],
      "text/plain": [
       "\u001b[92m───────────────────────────────────────────────── \u001b[0mLLM Translation\u001b[92m ─────────────────────────────────────────────────\u001b[0m\n"
      ]
     },
     "metadata": {},
     "output_type": "display_data"
    },
    {
     "data": {
      "text/html": [
       "<pre style=\"white-space:pre;overflow-x:auto;line-height:normal;font-family:Menlo,'DejaVu Sans Mono',consolas,'Courier New',monospace\"><span style=\"color: #808000; text-decoration-color: #808000; font-weight: bold\">Die zweite Woche im März, Lektion sieben: </span><span style=\"color: #008000; text-decoration-color: #008000\">\"Die Heilige Dame\"</span><span style=\"color: #808000; text-decoration-color: #808000; font-weight: bold\"> die nächste Lektion:</span>\n",
       "</pre>\n"
      ],
      "text/plain": [
       "\u001b[1;33mDie zweite Woche im März, Lektion sieben: \u001b[0m\u001b[32m\"Die Heilige Dame\"\u001b[0m\u001b[1;33m die nächste Lektion:\u001b[0m\n"
      ]
     },
     "metadata": {},
     "output_type": "display_data"
    },
    {
     "data": {
      "text/html": [
       "<pre style=\"white-space:pre;overflow-x:auto;line-height:normal;font-family:Menlo,'DejaVu Sans Mono',consolas,'Courier New',monospace\"><span style=\"color: #808000; text-decoration-color: #808000; font-weight: bold\">Ägyptische Maria</span>\n",
       "</pre>\n"
      ],
      "text/plain": [
       "\u001b[1;33mÄgyptische Maria\u001b[0m\n"
      ]
     },
     "metadata": {},
     "output_type": "display_data"
    },
    {
     "data": {
      "text/html": [
       "<pre style=\"white-space:pre;overflow-x:auto;line-height:normal;font-family:Menlo,'DejaVu Sans Mono',consolas,'Courier New',monospace\"><span style=\"color: #808000; text-decoration-color: #808000; font-weight: bold\">Bildungszentrum: Die Reise zum Tag meiner Eltern</span>\n",
       "</pre>\n"
      ],
      "text/plain": [
       "\u001b[1;33mBildungszentrum: Die Reise zum Tag meiner Eltern\u001b[0m\n"
      ]
     },
     "metadata": {},
     "output_type": "display_data"
    },
    {
     "data": {
      "text/html": [
       "<pre style=\"white-space:pre;overflow-x:auto;line-height:normal;font-family:Menlo,'DejaVu Sans Mono',consolas,'Courier New',monospace\"><span style=\"color: #008000; text-decoration-color: #008000\">\"Gott hat mich geliebt, hat mir die Tür der Reue geöffnet, niemand kann sie vor mir schließen, mit Freude am </span>\n",
       "<span style=\"color: #008000; text-decoration-color: #008000\">Kreuz.\"</span>\n",
       "</pre>\n"
      ],
      "text/plain": [
       "\u001b[32m\"Gott hat mich geliebt, hat mir die Tür der Reue geöffnet, niemand kann sie vor mir schließen, mit Freude am \u001b[0m\n",
       "\u001b[32mKreuz.\"\u001b[0m\n"
      ]
     },
     "metadata": {},
     "output_type": "display_data"
    },
    {
     "data": {
      "text/html": [
       "<pre style=\"white-space:pre;overflow-x:auto;line-height:normal;font-family:Menlo,'DejaVu Sans Mono',consolas,'Courier New',monospace\"><span style=\"color: #808000; text-decoration-color: #808000; font-weight: bold\">Die Lektion lautet: </span><span style=\"color: #008000; text-decoration-color: #008000\">\"Du wirst mir dein Schwert geben, ich werde gereinigt, du wirst mich waschen, und ich werde </span>\n",
       "<span style=\"color: #008000; text-decoration-color: #008000\">weißer als Eis.\"</span>\n",
       "</pre>\n"
      ],
      "text/plain": [
       "\u001b[1;33mDie Lektion lautet: \u001b[0m\u001b[32m\"Du wirst mir dein Schwert geben, ich werde gereinigt, du wirst mich waschen, und ich werde \u001b[0m\n",
       "\u001b[32mweißer als Eis.\"\u001b[0m\n"
      ]
     },
     "metadata": {},
     "output_type": "display_data"
    },
    {
     "data": {
      "text/html": [
       "<pre style=\"white-space:pre;overflow-x:auto;line-height:normal;font-family:Menlo,'DejaVu Sans Mono',consolas,'Courier New',monospace\"><span style=\"color: #808000; text-decoration-color: #808000; font-weight: bold\">Ziel der Lektion:</span>\n",
       "</pre>\n"
      ],
      "text/plain": [
       "\u001b[1;33mZiel der Lektion:\u001b[0m\n"
      ]
     },
     "metadata": {},
     "output_type": "display_data"
    },
    {
     "data": {
      "text/html": [
       "<pre style=\"white-space:pre;overflow-x:auto;line-height:normal;font-family:Menlo,'DejaVu Sans Mono',consolas,'Courier New',monospace\"><span style=\"color: #808000; text-decoration-color: #808000; font-weight: bold\">Hilfe für das Baby:</span>\n",
       "</pre>\n"
      ],
      "text/plain": [
       "\u001b[1;33mHilfe für das Baby:\u001b[0m\n"
      ]
     },
     "metadata": {},
     "output_type": "display_data"
    },
    {
     "data": {
      "text/html": [
       "<pre style=\"white-space:pre;overflow-x:auto;line-height:normal;font-family:Menlo,'DejaVu Sans Mono',consolas,'Courier New',monospace\"><span style=\"color: #808000; text-decoration-color: #808000; font-weight: bold\">Er weiß: die Macht der ägyptischen Jungfrau Maria.</span>\n",
       "</pre>\n"
      ],
      "text/plain": [
       "\u001b[1;33mEr weiß: die Macht der ägyptischen Jungfrau Maria.\u001b[0m\n"
      ]
     },
     "metadata": {},
     "output_type": "display_data"
    },
    {
     "data": {
      "text/html": [
       "<pre style=\"white-space:pre;overflow-x:auto;line-height:normal;font-family:Menlo,'DejaVu Sans Mono',consolas,'Courier New',monospace\"><span style=\"color: #808000; text-decoration-color: #808000; font-weight: bold\">Er empfindet Mitgefühl und Vergebung für unsere Sünden, egal, was sie sind.</span>\n",
       "</pre>\n"
      ],
      "text/plain": [
       "\u001b[1;33mEr empfindet Mitgefühl und Vergebung für unsere Sünden, egal, was sie sind.\u001b[0m\n"
      ]
     },
     "metadata": {},
     "output_type": "display_data"
    },
    {
     "data": {
      "text/html": [
       "<pre style=\"white-space:pre;overflow-x:auto;line-height:normal;font-family:Menlo,'DejaVu Sans Mono',consolas,'Courier New',monospace\"><span style=\"color: #808000; text-decoration-color: #808000; font-weight: bold\">Er ahmt die wahre Reue nach.</span>\n",
       "</pre>\n"
      ],
      "text/plain": [
       "\u001b[1;33mEr ahmt die wahre Reue nach.\u001b[0m\n"
      ]
     },
     "metadata": {},
     "output_type": "display_data"
    },
    {
     "data": {
      "text/html": [
       "<pre style=\"white-space:pre;overflow-x:auto;line-height:normal;font-family:Menlo,'DejaVu Sans Mono',consolas,'Courier New',monospace\"><span style=\"color: #808000; text-decoration-color: #808000; font-weight: bold\">Der schriftliche Zeuge:</span>\n",
       "</pre>\n"
      ],
      "text/plain": [
       "\u001b[1;33mDer schriftliche Zeuge:\u001b[0m\n"
      ]
     },
     "metadata": {},
     "output_type": "display_data"
    },
    {
     "data": {
      "text/html": [
       "<pre style=\"white-space:pre;overflow-x:auto;line-height:normal;font-family:Menlo,'DejaVu Sans Mono',consolas,'Courier New',monospace\"><span style=\"color: #808000; text-decoration-color: #808000; font-weight: bold\">(H: </span><span style=\"color: #008080; text-decoration-color: #008080; font-weight: bold\">20</span><span style=\"color: #808000; text-decoration-color: #808000; font-weight: bold\">, </span><span style=\"color: #008080; text-decoration-color: #008080; font-weight: bold\">2</span><span style=\"color: #808000; text-decoration-color: #808000; font-weight: bold\"> ko </span><span style=\"color: #008080; text-decoration-color: #008080; font-weight: bold\">7</span><span style=\"color: #808000; text-decoration-color: #808000; font-weight: bold\">: </span><span style=\"color: #008080; text-decoration-color: #008080; font-weight: bold\">10</span><span style=\"color: #808000; text-decoration-color: #808000; font-weight: bold\">, Lo </span><span style=\"color: #008080; text-decoration-color: #008080; font-weight: bold\">15</span><span style=\"color: #808000; text-decoration-color: #808000; font-weight: bold\">, Lo </span><span style=\"color: #008080; text-decoration-color: #008080; font-weight: bold\">15</span><span style=\"color: #808000; text-decoration-color: #808000; font-weight: bold\">: </span><span style=\"color: #008080; text-decoration-color: #008080; font-weight: bold\">20</span><span style=\"color: #808000; text-decoration-color: #808000; font-weight: bold\">, Lu </span><span style=\"color: #008080; text-decoration-color: #008080; font-weight: bold\">15</span><span style=\"color: #808000; text-decoration-color: #808000; font-weight: bold\">: </span><span style=\"color: #008080; text-decoration-color: #008080; font-weight: bold\">20</span><span style=\"color: #808000; text-decoration-color: #808000; font-weight: bold\">, Lu </span><span style=\"color: #008080; text-decoration-color: #008080; font-weight: bold\">15</span><span style=\"color: #808000; text-decoration-color: #808000; font-weight: bold\">: </span><span style=\"color: #008080; text-decoration-color: #008080; font-weight: bold\">15</span><span style=\"color: #808000; text-decoration-color: #808000; font-weight: bold\">, Lu </span><span style=\"color: #008080; text-decoration-color: #008080; font-weight: bold\">15</span><span style=\"color: #808000; text-decoration-color: #808000; font-weight: bold\">: </span><span style=\"color: #008080; text-decoration-color: #008080; font-weight: bold\">15</span><span style=\"color: #808000; text-decoration-color: #808000; font-weight: bold\">: </span><span style=\"color: #008080; text-decoration-color: #008080; font-weight: bold\">7</span><span style=\"color: #808000; text-decoration-color: #808000; font-weight: bold\">)</span>\n",
       "</pre>\n"
      ],
      "text/plain": [
       "\u001b[1;33m(\u001b[0m\u001b[1;33mH: \u001b[0m\u001b[1;36m20\u001b[0m\u001b[1;33m, \u001b[0m\u001b[1;36m2\u001b[0m\u001b[1;33m ko \u001b[0m\u001b[1;36m7\u001b[0m\u001b[1;33m: \u001b[0m\u001b[1;36m10\u001b[0m\u001b[1;33m, Lo \u001b[0m\u001b[1;36m15\u001b[0m\u001b[1;33m, Lo \u001b[0m\u001b[1;36m15\u001b[0m\u001b[1;33m: \u001b[0m\u001b[1;36m20\u001b[0m\u001b[1;33m, Lu \u001b[0m\u001b[1;36m15\u001b[0m\u001b[1;33m: \u001b[0m\u001b[1;36m20\u001b[0m\u001b[1;33m, Lu \u001b[0m\u001b[1;36m15\u001b[0m\u001b[1;33m: \u001b[0m\u001b[1;36m15\u001b[0m\u001b[1;33m, Lu \u001b[0m\u001b[1;36m15\u001b[0m\u001b[1;33m: \u001b[0m\u001b[1;36m15\u001b[0m\u001b[1;33m: \u001b[0m\u001b[1;36m7\u001b[0m\u001b[1;33m)\u001b[0m\n"
      ]
     },
     "metadata": {},
     "output_type": "display_data"
    },
    {
     "data": {
      "text/html": [
       "<pre style=\"white-space:pre;overflow-x:auto;line-height:normal;font-family:Menlo,'DejaVu Sans Mono',consolas,'Courier New',monospace\"><span style=\"color: #808000; text-decoration-color: #808000; font-weight: bold\">Lektionsbetrachter:</span>\n",
       "</pre>\n"
      ],
      "text/plain": [
       "\u001b[1;33mLektionsbetrachter:\u001b[0m\n"
      ]
     },
     "metadata": {},
     "output_type": "display_data"
    },
    {
     "data": {
      "text/html": [
       "<pre style=\"white-space:pre;overflow-x:auto;line-height:normal;font-family:Menlo,'DejaVu Sans Mono',consolas,'Courier New',monospace\"><span style=\"color: #808000; text-decoration-color: #808000; font-weight: bold\">Sensei (einer ist ein Buddhfinder)</span>\n",
       "</pre>\n"
      ],
      "text/plain": [
       "\u001b[1;33mSensei \u001b[0m\u001b[1;33m(\u001b[0m\u001b[1;33meiner ist ein Buddhfinder\u001b[0m\u001b[1;33m)\u001b[0m\n"
      ]
     },
     "metadata": {},
     "output_type": "display_data"
    },
    {
     "data": {
      "text/html": [
       "<pre style=\"white-space:pre;overflow-x:auto;line-height:normal;font-family:Menlo,'DejaVu Sans Mono',consolas,'Courier New',monospace\"><span style=\"color: #808000; text-decoration-color: #808000; font-weight: bold\">Das Leben der Buße und der Reinheit.</span>\n",
       "</pre>\n"
      ],
      "text/plain": [
       "\u001b[1;33mDas Leben der Buße und der Reinheit.\u001b[0m\n"
      ]
     },
     "metadata": {},
     "output_type": "display_data"
    },
    {
     "data": {
      "text/html": [
       "<pre style=\"white-space:pre;overflow-x:auto;line-height:normal;font-family:Menlo,'DejaVu Sans Mono',consolas,'Courier New',monospace\"><span style=\"color: #808000; text-decoration-color: #808000; font-weight: bold\">Der orthodoxe Diener der Kirche und des Lebens der Kiemen mit einem milden Grill</span>\n",
       "</pre>\n"
      ],
      "text/plain": [
       "\u001b[1;33mDer orthodoxe Diener der Kirche und des Lebens der Kiemen mit einem milden Grill\u001b[0m\n"
      ]
     },
     "metadata": {},
     "output_type": "display_data"
    },
    {
     "data": {
      "text/html": [
       "<pre style=\"white-space:pre;overflow-x:auto;line-height:normal;font-family:Menlo,'DejaVu Sans Mono',consolas,'Courier New',monospace\"><span style=\"color: #808000; text-decoration-color: #808000; font-weight: bold\">Dialog-Idee</span>\n",
       "</pre>\n"
      ],
      "text/plain": [
       "\u001b[1;33mDialog-Idee\u001b[0m\n"
      ]
     },
     "metadata": {},
     "output_type": "display_data"
    },
    {
     "data": {
      "text/html": [
       "<pre style=\"white-space:pre;overflow-x:auto;line-height:normal;font-family:Menlo,'DejaVu Sans Mono',consolas,'Courier New',monospace\"><span style=\"color: #808000; text-decoration-color: #808000; font-weight: bold\">Werkzeug: Tafel und Stift. Breite: </span><span style=\"color: #008080; text-decoration-color: #008080; font-weight: bold\">491</span><span style=\"color: #808000; text-decoration-color: #808000; font-weight: bold\"> geteilt durch </span><span style=\"color: #008080; text-decoration-color: #008080; font-weight: bold\">7</span><span style=\"color: #808000; text-decoration-color: #808000; font-weight: bold\"> mal </span><span style=\"color: #008080; text-decoration-color: #008080; font-weight: bold\">283</span><span style=\"color: #808000; text-decoration-color: #808000; font-weight: bold\"> geteilt durch </span><span style=\"color: #008080; text-decoration-color: #008080; font-weight: bold\">43</span><span style=\"color: #808000; text-decoration-color: #808000; font-weight: bold\"> minus </span><span style=\"color: #008080; text-decoration-color: #008080; font-weight: bold\">16</span><span style=\"color: #808000; text-decoration-color: #808000; font-weight: bold\"> ist gleich?</span>\n",
       "</pre>\n"
      ],
      "text/plain": [
       "\u001b[1;33mWerkzeug: Tafel und Stift. Breite: \u001b[0m\u001b[1;36m491\u001b[0m\u001b[1;33m geteilt durch \u001b[0m\u001b[1;36m7\u001b[0m\u001b[1;33m mal \u001b[0m\u001b[1;36m283\u001b[0m\u001b[1;33m geteilt durch \u001b[0m\u001b[1;36m43\u001b[0m\u001b[1;33m minus \u001b[0m\u001b[1;36m16\u001b[0m\u001b[1;33m ist gleich?\u001b[0m\n"
      ]
     },
     "metadata": {},
     "output_type": "display_data"
    },
    {
     "data": {
      "text/html": [
       "<pre style=\"white-space:pre;overflow-x:auto;line-height:normal;font-family:Menlo,'DejaVu Sans Mono',consolas,'Courier New',monospace\"><span style=\"color: #808000; text-decoration-color: #808000; font-weight: bold\">Wir haben einige mathematische Fragen, die wir vor Beginn des Satzes lösen müssen, mit dem Sammelprozess beginnen, </span>\n",
       "<span style=\"color: #808000; text-decoration-color: #808000; font-weight: bold\">ein paar Fehler begehen und die Ergebnisse korrigieren, wenn die Kinder es Ihnen erklären, aber wenn Sie sich </span>\n",
       "<span style=\"color: #808000; text-decoration-color: #808000; font-weight: bold\">selbst in völligen Schwierigkeiten befinden, viele Einwände haben, das Ergebnis immer noch einräumen, die </span>\n",
       "<span style=\"color: #808000; text-decoration-color: #808000; font-weight: bold\">Niederlage anerkennen und einige Kinder bitten, den Fehler zu korrigieren und die Versammlung zu ergänzen. Erkläre,</span>\n",
       "<span style=\"color: #808000; text-decoration-color: #808000; font-weight: bold\">wie jeder von uns viele falsche Dinge in seinem Leben haben kann; manchmal und manchmal denken manche Menschen, </span>\n",
       "<span style=\"color: #808000; text-decoration-color: #808000; font-weight: bold\">wenn sie diese Dinge ignorieren, sind sie am Ende genauso richtig wie die Berechnungen.</span>\n",
       "</pre>\n"
      ],
      "text/plain": [
       "\u001b[1;33mWir haben einige mathematische Fragen, die wir vor Beginn des Satzes lösen müssen, mit dem Sammelprozess beginnen, \u001b[0m\n",
       "\u001b[1;33mein paar Fehler begehen und die Ergebnisse korrigieren, wenn die Kinder es Ihnen erklären, aber wenn Sie sich \u001b[0m\n",
       "\u001b[1;33mselbst in völligen Schwierigkeiten befinden, viele Einwände haben, das Ergebnis immer noch einräumen, die \u001b[0m\n",
       "\u001b[1;33mNiederlage anerkennen und einige Kinder bitten, den Fehler zu korrigieren und die Versammlung zu ergänzen. Erkläre,\u001b[0m\n",
       "\u001b[1;33mwie jeder von uns viele falsche Dinge in seinem Leben haben kann; manchmal und manchmal denken manche Menschen, \u001b[0m\n",
       "\u001b[1;33mwenn sie diese Dinge ignorieren, sind sie am Ende genauso richtig wie die Berechnungen.\u001b[0m\n"
      ]
     },
     "metadata": {},
     "output_type": "display_data"
    },
    {
     "data": {
      "text/html": [
       "<pre style=\"white-space:pre;overflow-x:auto;line-height:normal;font-family:Menlo,'DejaVu Sans Mono',consolas,'Courier New',monospace\"><span style=\"color: #808000; text-decoration-color: #808000; font-weight: bold\">Eine Vorgeschichte.</span>\n",
       "</pre>\n"
      ],
      "text/plain": [
       "\u001b[1;33mEine Vorgeschichte.\u001b[0m\n"
      ]
     },
     "metadata": {},
     "output_type": "display_data"
    },
    {
     "data": {
      "text/html": [
       "<pre style=\"white-space:pre;overflow-x:auto;line-height:normal;font-family:Menlo,'DejaVu Sans Mono',consolas,'Courier New',monospace\"><span style=\"color: #808000; text-decoration-color: #808000; font-weight: bold\">Der Weise fragte seinen ersten Schüler, was er gefunden hatte. Er öffnete eine kleine Schachtel Blut für einen </span>\n",
       "<span style=\"color: #808000; text-decoration-color: #808000; font-weight: bold\">Menschen, der sein Leben für sein Land opferte, und der Weise antwortete: „Was ist wert?“ Der andere Jünger fragte:</span>\n",
       "<span style=\"color: #808000; text-decoration-color: #808000; font-weight: bold\">Er öffnete eine kleine Schachtel mit einem Wasserstück und erzählte ihm von ihrer Geschichte.</span>\n",
       "</pre>\n"
      ],
      "text/plain": [
       "\u001b[1;33mDer Weise fragte seinen ersten Schüler, was er gefunden hatte. Er öffnete eine kleine Schachtel Blut für einen \u001b[0m\n",
       "\u001b[1;33mMenschen, der sein Leben für sein Land opferte, und der Weise antwortete: „Was ist wert?“ Der andere Jünger fragte:\u001b[0m\n",
       "\u001b[1;33mEr öffnete eine kleine Schachtel mit einem Wasserstück und erzählte ihm von ihrer Geschichte.\u001b[0m\n"
      ]
     },
     "metadata": {},
     "output_type": "display_data"
    },
    {
     "data": {
      "text/html": [
       "<pre style=\"white-space:pre;overflow-x:auto;line-height:normal;font-family:Menlo,'DejaVu Sans Mono',consolas,'Courier New',monospace\"><span style=\"color: #808000; text-decoration-color: #808000; font-weight: bold\">□ Schauspielaktivitäten</span>\n",
       "</pre>\n"
      ],
      "text/plain": [
       "\u001b[1;33m□ Schauspielaktivitäten\u001b[0m\n"
      ]
     },
     "metadata": {},
     "output_type": "display_data"
    },
    {
     "data": {
      "text/html": [
       "<pre style=\"white-space:pre;overflow-x:auto;line-height:normal;font-family:Menlo,'DejaVu Sans Mono',consolas,'Courier New',monospace\"><span style=\"color: #808000; text-decoration-color: #808000; font-weight: bold\">P.S.: Die Geschichte zwischen zwei Töchtern, wenn sie Mädchen unterrichten, und zwei Jungen, die Kinder </span>\n",
       "<span style=\"color: #808000; text-decoration-color: #808000; font-weight: bold\">unterrichten, wird verändert, was nötig ist.</span>\n",
       "</pre>\n"
      ],
      "text/plain": [
       "\u001b[1;33mP.S.: Die Geschichte zwischen zwei Töchtern, wenn sie Mädchen unterrichten, und zwei Jungen, die Kinder \u001b[0m\n",
       "\u001b[1;33munterrichten, wird verändert, was nötig ist.\u001b[0m\n"
      ]
     },
     "metadata": {},
     "output_type": "display_data"
    },
    {
     "data": {
      "text/html": [
       "<pre style=\"white-space:pre;overflow-x:auto;line-height:normal;font-family:Menlo,'DejaVu Sans Mono',consolas,'Courier New',monospace\"><span style=\"color: #808000; text-decoration-color: #808000; font-weight: bold\">Hey, Krocki, was hast du dir dabei gedacht?</span>\n",
       "</pre>\n"
      ],
      "text/plain": [
       "\u001b[1;33mHey, Krocki, was hast du dir dabei gedacht?\u001b[0m\n"
      ]
     },
     "metadata": {},
     "output_type": "display_data"
    },
    {
     "data": {
      "text/html": [
       "<pre style=\"white-space:pre;overflow-x:auto;line-height:normal;font-family:Menlo,'DejaVu Sans Mono',consolas,'Courier New',monospace\"><span style=\"color: #808000; text-decoration-color: #808000; font-weight: bold\">Das ist das erste Mal, dass du mir ein Geschenk machst.</span>\n",
       "</pre>\n"
      ],
      "text/plain": [
       "\u001b[1;33mDas ist das erste Mal, dass du mir ein Geschenk machst.\u001b[0m\n"
      ]
     },
     "metadata": {},
     "output_type": "display_data"
    },
    {
     "data": {
      "text/html": [
       "<pre style=\"white-space:pre;overflow-x:auto;line-height:normal;font-family:Menlo,'DejaVu Sans Mono',consolas,'Courier New',monospace\"><span style=\"color: #808000; text-decoration-color: #808000; font-weight: bold\">Doch als sie zwölf Jahre alt war, begann der Teufel, sie zu täuschen und zu verführen, und sie zog es vor, </span><span style=\"color: #008080; text-decoration-color: #008080; font-weight: bold\">17</span><span style=\"color: #808000; text-decoration-color: #808000; font-weight: bold\"> Jahre</span>\n",
       "<span style=\"color: #808000; text-decoration-color: #808000; font-weight: bold\">lang von unserem Herrn getrennt zu leben, und ihre Sünden waren sehr schwer, doch unser Herr wollte nicht, dass der</span>\n",
       "<span style=\"color: #808000; text-decoration-color: #808000; font-weight: bold\">Sünder stirbt und die Liebe seiner Kinder weggerissen wird. Eines Sommers sah sie ein Schiff, das nach Jerusalem </span>\n",
       "<span style=\"color: #808000; text-decoration-color: #808000; font-weight: bold\">reiste, um dort das Kreuzfest zu besuchen, und da ging sie mit ihm hin, und als sie in der Auferstehungskirche war,</span>\n",
       "<span style=\"color: #808000; text-decoration-color: #808000; font-weight: bold\">spürte sie, dass ihre Männer auf der Erde waren, und dass sie von der Kirche ferngehalten wurde, und dass sie von </span>\n",
       "<span style=\"color: #808000; text-decoration-color: #808000; font-weight: bold\">der Kirche ferngehalten wurde.</span>\n",
       "</pre>\n"
      ],
      "text/plain": [
       "\u001b[1;33mDoch als sie zwölf Jahre alt war, begann der Teufel, sie zu täuschen und zu verführen, und sie zog es vor, \u001b[0m\u001b[1;36m17\u001b[0m\u001b[1;33m Jahre\u001b[0m\n",
       "\u001b[1;33mlang von unserem Herrn getrennt zu leben, und ihre Sünden waren sehr schwer, doch unser Herr wollte nicht, dass der\u001b[0m\n",
       "\u001b[1;33mSünder stirbt und die Liebe seiner Kinder weggerissen wird. Eines Sommers sah sie ein Schiff, das nach Jerusalem \u001b[0m\n",
       "\u001b[1;33mreiste, um dort das Kreuzfest zu besuchen, und da ging sie mit ihm hin, und als sie in der Auferstehungskirche war,\u001b[0m\n",
       "\u001b[1;33mspürte sie, dass ihre Männer auf der Erde waren, und dass sie von der Kirche ferngehalten wurde, und dass sie von \u001b[0m\n",
       "\u001b[1;33mder Kirche ferngehalten wurde.\u001b[0m\n"
      ]
     },
     "metadata": {},
     "output_type": "display_data"
    },
    {
     "data": {
      "text/html": [
       "<pre style=\"white-space:pre;overflow-x:auto;line-height:normal;font-family:Menlo,'DejaVu Sans Mono',consolas,'Courier New',monospace\"><span style=\"color: #808000; text-decoration-color: #808000; font-weight: bold\">Magh Tani ging hinaus zu ihren Bewohnern oder zu ihren Arazien und in der Mitte von dem, was sie vor den Toren der </span>\n",
       "<span style=\"color: #808000; text-decoration-color: #808000; font-weight: bold\">Auferstehung sah, hörte sie eine Stimme zu ihr sagen: „Gehen Sie durch Jordanien und dort wird es Ihnen bequem.“ </span>\n",
       "<span style=\"color: #808000; text-decoration-color: #808000; font-weight: bold\">Sie ging also aus Jerusalem hinaus, überquerte den Jordan, nahm drei Silberklößchen mit, lebte drei Brote neben dem</span>\n",
       "<span style=\"color: #808000; text-decoration-color: #808000; font-weight: bold\">Jordan in der Wildnis, lebte </span><span style=\"color: #008080; text-decoration-color: #008080; font-weight: bold\">47</span><span style=\"color: #808000; text-decoration-color: #808000; font-weight: bold\"> Jahre in der Wüste und lebte </span><span style=\"color: #008080; text-decoration-color: #008080; font-weight: bold\">47</span><span style=\"color: #808000; text-decoration-color: #808000; font-weight: bold\"> Jahre lang in der Wüste in einem Gebet für unseren </span>\n",
       "<span style=\"color: #808000; text-decoration-color: #808000; font-weight: bold\">Herrn, und er aß Gras, und die Heilige Maria befand sich in sehr schweren Kriegen des Teufels, und sie wurde </span>\n",
       "<span style=\"color: #808000; text-decoration-color: #808000; font-weight: bold\">besiegt.</span>\n",
       "</pre>\n"
      ],
      "text/plain": [
       "\u001b[1;33mMagh Tani ging hinaus zu ihren Bewohnern oder zu ihren Arazien und in der Mitte von dem, was sie vor den Toren der \u001b[0m\n",
       "\u001b[1;33mAuferstehung sah, hörte sie eine Stimme zu ihr sagen: „Gehen Sie durch Jordanien und dort wird es Ihnen bequem.“ \u001b[0m\n",
       "\u001b[1;33mSie ging also aus Jerusalem hinaus, überquerte den Jordan, nahm drei Silberklößchen mit, lebte drei Brote neben dem\u001b[0m\n",
       "\u001b[1;33mJordan in der Wildnis, lebte \u001b[0m\u001b[1;36m47\u001b[0m\u001b[1;33m Jahre in der Wüste und lebte \u001b[0m\u001b[1;36m47\u001b[0m\u001b[1;33m Jahre lang in der Wüste in einem Gebet für unseren \u001b[0m\n",
       "\u001b[1;33mHerrn, und er aß Gras, und die Heilige Maria befand sich in sehr schweren Kriegen des Teufels, und sie wurde \u001b[0m\n",
       "\u001b[1;33mbesiegt.\u001b[0m\n"
      ]
     },
     "metadata": {},
     "output_type": "display_data"
    },
    {
     "data": {
      "text/html": [
       "<pre style=\"white-space:pre;overflow-x:auto;line-height:normal;font-family:Menlo,'DejaVu Sans Mono',consolas,'Courier New',monospace\"><span style=\"color: #808000; text-decoration-color: #808000; font-weight: bold\">Und am Ende ihres Lebens in der Wildnis traf sie einen Heiligen namens St. Zusema, der sie von Weitem heilte, und </span>\n",
       "<span style=\"color: #808000; text-decoration-color: #808000; font-weight: bold\">fragte ihn, ob er herausfinden würde, wer der Mensch sei, den sie in seinem Namen nannte, und er fragte ihn </span>\n",
       "<span style=\"color: #808000; text-decoration-color: #808000; font-weight: bold\">natürlich, wie sie seinen Namen kannte, aber er wartete darauf, dass die Heilige ihn mit ihren Tränen beweinte, um </span>\n",
       "<span style=\"color: #808000; text-decoration-color: #808000; font-weight: bold\">sie zu beruhigen, und sie fragte ihn, ob er sie in der Tat in der Erde begraben würde. Und tatsächlich kam er zu </span>\n",
       "<span style=\"color: #808000; text-decoration-color: #808000; font-weight: bold\">ihr und traf sie fast tot.</span>\n",
       "</pre>\n"
      ],
      "text/plain": [
       "\u001b[1;33mUnd am Ende ihres Lebens in der Wildnis traf sie einen Heiligen namens St. Zusema, der sie von Weitem heilte, und \u001b[0m\n",
       "\u001b[1;33mfragte ihn, ob er herausfinden würde, wer der Mensch sei, den sie in seinem Namen nannte, und er fragte ihn \u001b[0m\n",
       "\u001b[1;33mnatürlich, wie sie seinen Namen kannte, aber er wartete darauf, dass die Heilige ihn mit ihren Tränen beweinte, um \u001b[0m\n",
       "\u001b[1;33msie zu beruhigen, und sie fragte ihn, ob er sie in der Tat in der Erde begraben würde. Und tatsächlich kam er zu \u001b[0m\n",
       "\u001b[1;33mihr und traf sie fast tot.\u001b[0m\n"
      ]
     },
     "metadata": {},
     "output_type": "display_data"
    },
    {
     "data": {
      "text/html": [
       "<pre style=\"white-space:pre;overflow-x:auto;line-height:normal;font-family:Menlo,'DejaVu Sans Mono',consolas,'Courier New',monospace\"><span style=\"color: #808000; text-decoration-color: #808000; font-weight: bold\">Die Kirche feiert ihren </span><span style=\"color: #008080; text-decoration-color: #008080; font-weight: bold\">1</span><span style=\"color: #808000; text-decoration-color: #808000; font-weight: bold\">. Brief mit der Post, die immer dem </span><span style=\"color: #008080; text-decoration-color: #008080; font-weight: bold\">9</span><span style=\"color: #808000; text-decoration-color: #808000; font-weight: bold\">. April zustimmt.</span>\n",
       "</pre>\n"
      ],
      "text/plain": [
       "\u001b[1;33mDie Kirche feiert ihren \u001b[0m\u001b[1;36m1\u001b[0m\u001b[1;33m. Brief mit der Post, die immer dem \u001b[0m\u001b[1;36m9\u001b[0m\u001b[1;33m. April zustimmt.\u001b[0m\n"
      ]
     },
     "metadata": {},
     "output_type": "display_data"
    }
   ],
   "source": [
    "# Translate and Compare\n",
    "llm_translations = []\n",
    "\n",
    "for arabic in arabic_paragraphs:  # limit for now\n",
    "    llm_translation = translator.translate(arabic)\n",
    "    llm_translations.append(llm_translation)\n",
    "\n",
    "console.rule(\"LLM Translation\")\n",
    "for l in llm_translations:\n",
    "    console.print(l, style=\"bold yellow\")"
   ]
  },
  {
   "cell_type": "markdown",
   "id": "f4ef145a-e6fa-4142-9c0b-07ea4a70149c",
   "metadata": {},
   "source": [
    "### Test LLM translation vs. Human translation using BLEU and BERT Score"
   ]
  },
  {
   "cell_type": "code",
   "execution_count": 24,
   "id": "b182ec56-fa31-4400-bf7d-014d24ddc8e5",
   "metadata": {},
   "outputs": [
    {
     "name": "stdout",
     "output_type": "stream",
     "text": [
      "\n",
      "--- BLEU Evaluation Results ---\n",
      "BLEU Score: 1.92\n",
      "LLM translations: 29\n",
      "Human translations: 34\n"
     ]
    },
    {
     "ename": "AssertionError",
     "evalue": "Different number of candidates and references",
     "output_type": "error",
     "traceback": [
      "\u001b[1;31m---------------------------------------------------------------------------\u001b[0m",
      "\u001b[1;31mAssertionError\u001b[0m                            Traceback (most recent call last)",
      "Cell \u001b[1;32mIn[24], line 11\u001b[0m\n\u001b[0;32m      7\u001b[0m \u001b[38;5;28mprint\u001b[39m(\u001b[38;5;124mf\u001b[39m\u001b[38;5;124m\"\u001b[39m\u001b[38;5;124mHuman translations: \u001b[39m\u001b[38;5;132;01m{\u001b[39;00m\u001b[38;5;28mlen\u001b[39m(human_translations)\u001b[38;5;132;01m}\u001b[39;00m\u001b[38;5;124m\"\u001b[39m)\n\u001b[0;32m     10\u001b[0m \u001b[38;5;66;03m# --- BERTScore Evaluation ---\u001b[39;00m\n\u001b[1;32m---> 11\u001b[0m P, R, F1 \u001b[38;5;241m=\u001b[39m \u001b[43mbert_score\u001b[49m\u001b[43m(\u001b[49m\u001b[43mllm_translations\u001b[49m\u001b[43m,\u001b[49m\u001b[43m \u001b[49m\u001b[43mhuman_translations\u001b[49m\u001b[43m,\u001b[49m\u001b[43m \u001b[49m\u001b[43mlang\u001b[49m\u001b[38;5;241;43m=\u001b[39;49m\u001b[38;5;124;43m\"\u001b[39;49m\u001b[38;5;124;43mde\u001b[39;49m\u001b[38;5;124;43m\"\u001b[39;49m\u001b[43m,\u001b[49m\u001b[43m \u001b[49m\u001b[43mverbose\u001b[49m\u001b[38;5;241;43m=\u001b[39;49m\u001b[38;5;28;43;01mTrue\u001b[39;49;00m\u001b[43m)\u001b[49m\n\u001b[0;32m     13\u001b[0m \u001b[38;5;28mprint\u001b[39m(\u001b[38;5;124m\"\u001b[39m\u001b[38;5;130;01m\\n\u001b[39;00m\u001b[38;5;124m--- BERTScore Evaluation Results ---\u001b[39m\u001b[38;5;124m\"\u001b[39m)\n\u001b[0;32m     14\u001b[0m \u001b[38;5;28mprint\u001b[39m(\u001b[38;5;124mf\u001b[39m\u001b[38;5;124m\"\u001b[39m\u001b[38;5;124mAverage Precision: \u001b[39m\u001b[38;5;132;01m{\u001b[39;00mP\u001b[38;5;241m.\u001b[39mmean()\u001b[38;5;132;01m:\u001b[39;00m\u001b[38;5;124m.4f\u001b[39m\u001b[38;5;132;01m}\u001b[39;00m\u001b[38;5;124m\"\u001b[39m)\n",
      "File \u001b[1;32m~\\miniconda3\\envs\\cagi_env\\lib\\site-packages\\bert_score\\score.py:70\u001b[0m, in \u001b[0;36mscore\u001b[1;34m(cands, refs, model_type, num_layers, verbose, idf, device, batch_size, nthreads, all_layers, lang, return_hash, rescale_with_baseline, baseline_path, use_fast_tokenizer)\u001b[0m\n\u001b[0;32m     21\u001b[0m \u001b[38;5;28;01mdef\u001b[39;00m\u001b[38;5;250m \u001b[39m\u001b[38;5;21mscore\u001b[39m(\n\u001b[0;32m     22\u001b[0m     cands,\n\u001b[0;32m     23\u001b[0m     refs,\n\u001b[1;32m   (...)\u001b[0m\n\u001b[0;32m     36\u001b[0m     use_fast_tokenizer\u001b[38;5;241m=\u001b[39m\u001b[38;5;28;01mFalse\u001b[39;00m,\n\u001b[0;32m     37\u001b[0m ):\n\u001b[0;32m     38\u001b[0m \u001b[38;5;250m    \u001b[39m\u001b[38;5;124;03m\"\"\"\u001b[39;00m\n\u001b[0;32m     39\u001b[0m \u001b[38;5;124;03m    BERTScore metric.\u001b[39;00m\n\u001b[0;32m     40\u001b[0m \n\u001b[1;32m   (...)\u001b[0m\n\u001b[0;32m     68\u001b[0m \u001b[38;5;124;03m                  the *best* score among all references.\u001b[39;00m\n\u001b[0;32m     69\u001b[0m \u001b[38;5;124;03m    \"\"\"\u001b[39;00m\n\u001b[1;32m---> 70\u001b[0m     \u001b[38;5;28;01massert\u001b[39;00m \u001b[38;5;28mlen\u001b[39m(cands) \u001b[38;5;241m==\u001b[39m \u001b[38;5;28mlen\u001b[39m(refs), \u001b[38;5;124m\"\u001b[39m\u001b[38;5;124mDifferent number of candidates and references\u001b[39m\u001b[38;5;124m\"\u001b[39m\n\u001b[0;32m     72\u001b[0m     \u001b[38;5;28;01massert\u001b[39;00m (\n\u001b[0;32m     73\u001b[0m         lang \u001b[38;5;129;01mis\u001b[39;00m \u001b[38;5;129;01mnot\u001b[39;00m \u001b[38;5;28;01mNone\u001b[39;00m \u001b[38;5;129;01mor\u001b[39;00m model_type \u001b[38;5;129;01mis\u001b[39;00m \u001b[38;5;129;01mnot\u001b[39;00m \u001b[38;5;28;01mNone\u001b[39;00m\n\u001b[0;32m     74\u001b[0m     ), \u001b[38;5;124m\"\u001b[39m\u001b[38;5;124mEither lang or model_type should be specified\u001b[39m\u001b[38;5;124m\"\u001b[39m\n\u001b[0;32m     76\u001b[0m     ref_group_boundaries \u001b[38;5;241m=\u001b[39m \u001b[38;5;28;01mNone\u001b[39;00m\n",
      "\u001b[1;31mAssertionError\u001b[0m: Different number of candidates and references"
     ]
    }
   ],
   "source": [
    "# --- Automated BLEU Evaluation ---\n",
    "bleu = corpus_bleu(llm_translations, [human_translations])\n",
    "print(\"\\n--- BLEU Evaluation Results ---\")\n",
    "print(f\"BLEU Score: {bleu.score:.2f}\")\n",
    "\n",
    "print(f\"LLM translations: {len(llm_translations)}\")\n",
    "print(f\"Human translations: {len(human_translations)}\")\n",
    "\n",
    "\n",
    "# --- BERTScore Evaluation ---\n",
    "P, R, F1 = bert_score(llm_translations, human_translations, lang=\"de\", verbose=True)\n",
    "\n",
    "print(\"\\n--- BERTScore Evaluation Results ---\")\n",
    "print(f\"Average Precision: {P.mean():.4f}\")\n",
    "print(f\"Average Recall:    {R.mean():.4f}\")\n",
    "print(f\"Average F1:        {F1.mean():.4f}\")\n",
    "\n",
    "# Comparison Table\n",
    "comparison_df = pd.DataFrame({\n",
    "    \"Arabic\": arabic_texts,\n",
    "    \"Human German\": human_translations,\n",
    "    \"LLM German\": llm_translations,\n",
    "    \"BERTScore F1\": F1.tolist()\n",
    "})\n",
    "\n",
    "comparison_df"
   ]
  },
  {
   "cell_type": "code",
   "execution_count": null,
   "id": "33e020f1-fd25-4ec6-a86a-0cb8f17e0a6d",
   "metadata": {},
   "outputs": [],
   "source": []
  },
  {
   "cell_type": "code",
   "execution_count": null,
   "id": "c83517cc-86cd-4f71-972a-7a330bd2b0f2",
   "metadata": {},
   "outputs": [],
   "source": []
  }
 ],
 "metadata": {
  "kernelspec": {
   "display_name": "Python 3 (ipykernel)",
   "language": "python",
   "name": "python3"
  },
  "language_info": {
   "codemirror_mode": {
    "name": "ipython",
    "version": 3
   },
   "file_extension": ".py",
   "mimetype": "text/x-python",
   "name": "python",
   "nbconvert_exporter": "python",
   "pygments_lexer": "ipython3",
   "version": "3.10.16"
  }
 },
 "nbformat": 4,
 "nbformat_minor": 5
}
